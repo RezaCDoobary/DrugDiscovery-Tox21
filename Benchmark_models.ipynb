{
 "cells": [
  {
   "cell_type": "markdown",
   "metadata": {},
   "source": [
    "# Benchmark Model"
   ]
  },
  {
   "cell_type": "markdown",
   "metadata": {},
   "source": [
    "In this notebook, a basic benchmark model is set up for the exercise.\n",
    "Two basic models are chosen and a testing framework is built to analyse the results. \n",
    "\n",
    "The opportunity is taken to describe the full modelling problem specific to the bag of words data preparation. We describe the key issues:\n",
    "\n",
    "* 1. Data preparation - The BOW approach is used here for the smiles (together with molecular weight), however we must make sure to fit the BOW approach on the training data and transform the hold out set accordingly.\n",
    "\n",
    "* 2. Modelling - The modelling problem itself is applied to the basic 'out of the box' algorithms\n",
    "    * 2.1\\. Random Forest\n",
    "    * 2.2\\. XGBoost\n",
    "    \n",
    "* 3. Testing - The application of the testing framework developed (a discussion of metric choices is developed here)\n",
    "\n",
    "A key issue will also be how to exclude the null values from the modelling.\n",
    "       \n",
    "    "
   ]
  },
  {
   "cell_type": "code",
   "execution_count": 5,
   "metadata": {},
   "outputs": [],
   "source": [
    "# Basic imports\n",
    "import pandas as pd\n",
    "import numpy as np\n",
    "import pickle\n",
    "\n",
    "# Sklearn data preprocessing imports\n",
    "from sklearn.model_selection import train_test_split\n",
    "from sklearn.preprocessing import StandardScaler\n",
    "\n",
    "# drugdiscovery code imports\n",
    "import drugdiscovery as dd\n",
    "from drugdiscovery import preprocessing as pp\n",
    "\n",
    "import xgboost as xgb\n",
    "from sklearn.multioutput import MultiOutputClassifier\n"
   ]
  },
  {
   "cell_type": "markdown",
   "metadata": {},
   "source": [
    "## Data Preparation"
   ]
  },
  {
   "cell_type": "code",
   "execution_count": 6,
   "metadata": {},
   "outputs": [],
   "source": [
    "source = pd.read_csv('data/data_dups_removed.csv',index_col = 0)\n",
    "data = source.copy()"
   ]
  },
  {
   "cell_type": "markdown",
   "metadata": {},
   "source": [
    "Let's separate the target data from the input data:"
   ]
  },
  {
   "cell_type": "code",
   "execution_count": 7,
   "metadata": {},
   "outputs": [
    {
     "data": {
      "text/plain": [
       "Index(['Formula', 'FW', 'DSSTox_CID', 'SR-HSE', 'ID', 'SMILES', 'Molecule',\n",
       "       'NR-AR', 'SR-ARE', 'NR-Aromatase', 'NR-ER-LBD', 'NR-AhR', 'SR-MMP',\n",
       "       'NR-ER', 'NR-PPAR-gamma', 'SR-p53', 'SR-ATAD5', 'NR-AR-LBD'],\n",
       "      dtype='object')"
      ]
     },
     "execution_count": 7,
     "metadata": {},
     "output_type": "execute_result"
    }
   ],
   "source": [
    "data.columns"
   ]
  },
  {
   "cell_type": "markdown",
   "metadata": {},
   "source": [
    "Let's separate the target data from the input feature data"
   ]
  },
  {
   "cell_type": "code",
   "execution_count": 8,
   "metadata": {},
   "outputs": [],
   "source": [
    "features = ['FW','SMILES']\n",
    "targets = ['SR-HSE','NR-AR', 'SR-ARE', 'NR-Aromatase', 'NR-ER-LBD', 'NR-AhR', 'SR-MMP',\\\n",
    "       'NR-ER', 'NR-PPAR-gamma', 'SR-p53', 'SR-ATAD5', 'NR-AR-LBD']"
   ]
  },
  {
   "cell_type": "code",
   "execution_count": 9,
   "metadata": {},
   "outputs": [],
   "source": [
    "raw_X, raw_y = data[features], data[targets]"
   ]
  },
  {
   "cell_type": "code",
   "execution_count": 10,
   "metadata": {},
   "outputs": [
    {
     "data": {
      "text/html": [
       "<div>\n",
       "<style scoped>\n",
       "    .dataframe tbody tr th:only-of-type {\n",
       "        vertical-align: middle;\n",
       "    }\n",
       "\n",
       "    .dataframe tbody tr th {\n",
       "        vertical-align: top;\n",
       "    }\n",
       "\n",
       "    .dataframe thead th {\n",
       "        text-align: right;\n",
       "    }\n",
       "</style>\n",
       "<table border=\"1\" class=\"dataframe\">\n",
       "  <thead>\n",
       "    <tr style=\"text-align: right;\">\n",
       "      <th></th>\n",
       "      <th>SR-HSE</th>\n",
       "      <th>NR-AR</th>\n",
       "      <th>SR-ARE</th>\n",
       "      <th>NR-Aromatase</th>\n",
       "      <th>NR-ER-LBD</th>\n",
       "      <th>NR-AhR</th>\n",
       "      <th>SR-MMP</th>\n",
       "      <th>NR-ER</th>\n",
       "      <th>NR-PPAR-gamma</th>\n",
       "      <th>SR-p53</th>\n",
       "      <th>SR-ATAD5</th>\n",
       "      <th>NR-AR-LBD</th>\n",
       "    </tr>\n",
       "  </thead>\n",
       "  <tbody>\n",
       "    <tr>\n",
       "      <th>0</th>\n",
       "      <td>0.0</td>\n",
       "      <td>0.0</td>\n",
       "      <td>NaN</td>\n",
       "      <td>1.0</td>\n",
       "      <td>NaN</td>\n",
       "      <td>1.0</td>\n",
       "      <td>1.0</td>\n",
       "      <td>NaN</td>\n",
       "      <td>NaN</td>\n",
       "      <td>1.0</td>\n",
       "      <td>NaN</td>\n",
       "      <td>NaN</td>\n",
       "    </tr>\n",
       "    <tr>\n",
       "      <th>1</th>\n",
       "      <td>0.0</td>\n",
       "      <td>0.0</td>\n",
       "      <td>NaN</td>\n",
       "      <td>0.0</td>\n",
       "      <td>0.0</td>\n",
       "      <td>0.0</td>\n",
       "      <td>NaN</td>\n",
       "      <td>0.0</td>\n",
       "      <td>NaN</td>\n",
       "      <td>0.0</td>\n",
       "      <td>0.0</td>\n",
       "      <td>NaN</td>\n",
       "    </tr>\n",
       "    <tr>\n",
       "      <th>2</th>\n",
       "      <td>0.0</td>\n",
       "      <td>0.0</td>\n",
       "      <td>NaN</td>\n",
       "      <td>0.0</td>\n",
       "      <td>0.0</td>\n",
       "      <td>0.0</td>\n",
       "      <td>NaN</td>\n",
       "      <td>NaN</td>\n",
       "      <td>0.0</td>\n",
       "      <td>1.0</td>\n",
       "      <td>0.0</td>\n",
       "      <td>0.0</td>\n",
       "    </tr>\n",
       "    <tr>\n",
       "      <th>3</th>\n",
       "      <td>1.0</td>\n",
       "      <td>0.0</td>\n",
       "      <td>NaN</td>\n",
       "      <td>NaN</td>\n",
       "      <td>0.0</td>\n",
       "      <td>1.0</td>\n",
       "      <td>1.0</td>\n",
       "      <td>NaN</td>\n",
       "      <td>NaN</td>\n",
       "      <td>NaN</td>\n",
       "      <td>0.0</td>\n",
       "      <td>NaN</td>\n",
       "    </tr>\n",
       "    <tr>\n",
       "      <th>4</th>\n",
       "      <td>NaN</td>\n",
       "      <td>0.0</td>\n",
       "      <td>NaN</td>\n",
       "      <td>NaN</td>\n",
       "      <td>NaN</td>\n",
       "      <td>NaN</td>\n",
       "      <td>NaN</td>\n",
       "      <td>NaN</td>\n",
       "      <td>NaN</td>\n",
       "      <td>NaN</td>\n",
       "      <td>NaN</td>\n",
       "      <td>NaN</td>\n",
       "    </tr>\n",
       "  </tbody>\n",
       "</table>\n",
       "</div>"
      ],
      "text/plain": [
       "   SR-HSE  NR-AR  SR-ARE  NR-Aromatase  NR-ER-LBD  NR-AhR  SR-MMP  NR-ER  \\\n",
       "0     0.0    0.0     NaN           1.0        NaN     1.0     1.0    NaN   \n",
       "1     0.0    0.0     NaN           0.0        0.0     0.0     NaN    0.0   \n",
       "2     0.0    0.0     NaN           0.0        0.0     0.0     NaN    NaN   \n",
       "3     1.0    0.0     NaN           NaN        0.0     1.0     1.0    NaN   \n",
       "4     NaN    0.0     NaN           NaN        NaN     NaN     NaN    NaN   \n",
       "\n",
       "   NR-PPAR-gamma  SR-p53  SR-ATAD5  NR-AR-LBD  \n",
       "0            NaN     1.0       NaN        NaN  \n",
       "1            NaN     0.0       0.0        NaN  \n",
       "2            0.0     1.0       0.0        0.0  \n",
       "3            NaN     NaN       0.0        NaN  \n",
       "4            NaN     NaN       NaN        NaN  "
      ]
     },
     "execution_count": 10,
     "metadata": {},
     "output_type": "execute_result"
    }
   ],
   "source": [
    "raw_y.head()"
   ]
  },
  {
   "cell_type": "markdown",
   "metadata": {},
   "source": [
    "### Clean the retrieved dataset"
   ]
  },
  {
   "cell_type": "code",
   "execution_count": 11,
   "metadata": {},
   "outputs": [],
   "source": [
    "features_types = {'FW':float, 'SMILES':object}\n",
    "target_types = {n:float for n in targets}\n",
    "\n",
    "raw_X = raw_X.astype(features_types)\n",
    "raw_y = raw_y.astype(target_types)"
   ]
  },
  {
   "cell_type": "markdown",
   "metadata": {},
   "source": [
    "### Dealing with the nulls\n",
    "\n",
    "As we can see from the target training dataset, there are still some nulls in the data. It does not make sense to impute the target - we also do not want remove such data points entirely (mostly because there are too many). The apporach adopted - will be to introduce a masking over the nulls, so that only those targets which are non-null are counted in the metric outputs."
   ]
  },
  {
   "cell_type": "code",
   "execution_count": 12,
   "metadata": {},
   "outputs": [],
   "source": [
    "null_mask = np.array(np.logical_not(raw_y.isnull().values),int)"
   ]
  },
  {
   "cell_type": "markdown",
   "metadata": {},
   "source": [
    "So we can see that we get 1's in the null_mask for outputs we want contributions for, but 0 for those that we do not want. We then fill the null values with zeros for all of the output data. This is a choice we are making for the benchmark models, that we will rectify for in later iterations of the modelling preparation."
   ]
  },
  {
   "cell_type": "code",
   "execution_count": 13,
   "metadata": {},
   "outputs": [],
   "source": [
    "raw_y = raw_y.fillna(0.0)"
   ]
  },
  {
   "cell_type": "markdown",
   "metadata": {},
   "source": [
    "For the sake of convenience, we add the mask to the target data"
   ]
  },
  {
   "cell_type": "code",
   "execution_count": 14,
   "metadata": {},
   "outputs": [],
   "source": [
    "mask_df = pd.DataFrame(null_mask, columns = [r+'_mask' for r in raw_y.columns], index = raw_y.index)\n",
    "raw_y = pd.concat([raw_y,mask_df],1)"
   ]
  },
  {
   "cell_type": "markdown",
   "metadata": {},
   "source": [
    "### Split the data"
   ]
  },
  {
   "cell_type": "code",
   "execution_count": 15,
   "metadata": {},
   "outputs": [],
   "source": [
    "test_size = 0.33\n",
    "X_train, X_test, y_train, y_test = train_test_split(raw_X, raw_y, test_size = test_size, random_state=42)\n",
    "\n",
    "y_train, mask_train = y_train[targets], y_train[mask_df.columns]\n",
    "y_test, mask_test = y_test[targets], y_test[mask_df.columns]"
   ]
  },
  {
   "cell_type": "markdown",
   "metadata": {},
   "source": [
    "### Transform the data set\n",
    "\n",
    "We will make use of the BOW approach, together with the molecular weight.\n"
   ]
  },
  {
   "cell_type": "code",
   "execution_count": 16,
   "metadata": {},
   "outputs": [],
   "source": [
    "smiles = X_train['SMILES'].values\n",
    "bow = pp.BagOfWords(smiles)\n",
    "bow_train = bow.fit()\n",
    "bow_test = bow.transform(X_test['SMILES'].values)"
   ]
  },
  {
   "cell_type": "code",
   "execution_count": 17,
   "metadata": {},
   "outputs": [],
   "source": [
    "bow_train = np.insert(bow_train, 0, X_train['FW'], 1)\n",
    "bow_test = np.insert(bow_test, 0, X_test['FW'], 1)"
   ]
  },
  {
   "cell_type": "code",
   "execution_count": 18,
   "metadata": {},
   "outputs": [],
   "source": [
    "#stamdardise the data\n",
    "scaler = StandardScaler()\n",
    "bow_train = scaler.fit_transform(bow_train)\n",
    "bow_test = scaler.transform(bow_test)"
   ]
  },
  {
   "cell_type": "code",
   "execution_count": 19,
   "metadata": {},
   "outputs": [],
   "source": [
    "X_train, X_test = bow_train, bow_test"
   ]
  },
  {
   "cell_type": "markdown",
   "metadata": {},
   "source": [
    "So the data now looks like X_train, X_test ,y_train, y_test but BOW and scale fittings have been applied to X_train and the fitted transformations applied for the test data."
   ]
  },
  {
   "cell_type": "markdown",
   "metadata": {},
   "source": [
    "## Modelling"
   ]
  },
  {
   "cell_type": "markdown",
   "metadata": {},
   "source": [
    "### Random Forest"
   ]
  },
  {
   "cell_type": "code",
   "execution_count": 20,
   "metadata": {},
   "outputs": [],
   "source": [
    "from sklearn.ensemble import RandomForestClassifier"
   ]
  },
  {
   "cell_type": "code",
   "execution_count": 21,
   "metadata": {},
   "outputs": [],
   "source": [
    "# We take the generic model\n",
    "rf_model = RandomForestClassifier()\n",
    "rf_model.fit(X_train, y_train)\n",
    "\n",
    "pickle.dump(rf_model, open('models/rf_bechmark_model.pkl', 'wb'))"
   ]
  },
  {
   "cell_type": "markdown",
   "metadata": {},
   "source": [
    "### XGBoostClassifier"
   ]
  },
  {
   "cell_type": "code",
   "execution_count": 22,
   "metadata": {},
   "outputs": [],
   "source": [
    "xgb_model = xgb.XGBClassifier()\n",
    "xgb_model = MultiOutputClassifier(xgb_model)\n",
    "xgb_model.fit(X_train, y_train)\n",
    "\n",
    "pickle.dump(xgb_model, open('models/xgb_bechmark_model.pkl', 'wb'))"
   ]
  },
  {
   "cell_type": "markdown",
   "metadata": {},
   "source": [
    "## Testing\n",
    "\n",
    "A testing 'framework' has been developed in `drugdiscovery/testing/py` and involves creating a dataframe with the following metrics:\n",
    "\n",
    "Precision, Recall,\tF1,\tAUPRC,\tAccuracy,\tBalanced Accuracy,\tROC_AUC\n",
    "\n",
    "We are mostly interested in the interplay between Precision, Recall whilst F1 shows us a more general representation of the two. AUPRC is the area under the precision/recall curve, which is important given the target imbalance. The remaining metrics are there for completeness.\n",
    "\n",
    "The framework also includes a plotter for all for all of the testing targets, and will be displayed below."
   ]
  },
  {
   "cell_type": "code",
   "execution_count": 23,
   "metadata": {},
   "outputs": [],
   "source": [
    "from drugdiscovery import testing"
   ]
  },
  {
   "cell_type": "code",
   "execution_count": 24,
   "metadata": {},
   "outputs": [],
   "source": [
    "def get_pred_and_scores(model, X):\n",
    "    y_pred = model.predict(X)\n",
    "    y_score = np.array([model.predict_proba(X)[i][:,1] for i in range(0,12)]).T\n",
    "    return y_pred, y_score"
   ]
  },
  {
   "cell_type": "markdown",
   "metadata": {},
   "source": [
    "### Random Forest"
   ]
  },
  {
   "cell_type": "markdown",
   "metadata": {},
   "source": [
    "#### Training"
   ]
  },
  {
   "cell_type": "code",
   "execution_count": 25,
   "metadata": {},
   "outputs": [
    {
     "data": {
      "application/vnd.jupyter.widget-view+json": {
       "model_id": "c2fdb43e2d10482eb72df55dd9639fa2",
       "version_major": 2,
       "version_minor": 0
      },
      "text/plain": [
       "HBox(children=(FloatProgress(value=0.0, max=12.0), HTML(value='')))"
      ]
     },
     "metadata": {},
     "output_type": "display_data"
    },
    {
     "name": "stdout",
     "output_type": "stream",
     "text": [
      "\n"
     ]
    },
    {
     "data": {
      "text/html": [
       "<div>\n",
       "<style scoped>\n",
       "    .dataframe tbody tr th:only-of-type {\n",
       "        vertical-align: middle;\n",
       "    }\n",
       "\n",
       "    .dataframe tbody tr th {\n",
       "        vertical-align: top;\n",
       "    }\n",
       "\n",
       "    .dataframe thead th {\n",
       "        text-align: right;\n",
       "    }\n",
       "</style>\n",
       "<table border=\"1\" class=\"dataframe\">\n",
       "  <thead>\n",
       "    <tr style=\"text-align: right;\">\n",
       "      <th></th>\n",
       "      <th>Precision</th>\n",
       "      <th>Recall</th>\n",
       "      <th>F1</th>\n",
       "      <th>AUPRC</th>\n",
       "      <th>Accuracy</th>\n",
       "      <th>Balanced Accuracy</th>\n",
       "      <th>ROC_AUC</th>\n",
       "    </tr>\n",
       "  </thead>\n",
       "  <tbody>\n",
       "    <tr>\n",
       "      <th>SR-HSE</th>\n",
       "      <td>1</td>\n",
       "      <td>0.938697</td>\n",
       "      <td>0.968379</td>\n",
       "      <td>0.997959</td>\n",
       "      <td>0.996384</td>\n",
       "      <td>0.969349</td>\n",
       "      <td>0.969349</td>\n",
       "    </tr>\n",
       "    <tr>\n",
       "      <th>NR-AR</th>\n",
       "      <td>1</td>\n",
       "      <td>0.957547</td>\n",
       "      <td>0.978313</td>\n",
       "      <td>0.99888</td>\n",
       "      <td>0.998203</td>\n",
       "      <td>0.978774</td>\n",
       "      <td>0.978774</td>\n",
       "    </tr>\n",
       "    <tr>\n",
       "      <th>SR-ARE</th>\n",
       "      <td>0.988871</td>\n",
       "      <td>0.964341</td>\n",
       "      <td>0.976452</td>\n",
       "      <td>0.997576</td>\n",
       "      <td>0.992494</td>\n",
       "      <td>0.981126</td>\n",
       "      <td>0.981126</td>\n",
       "    </tr>\n",
       "    <tr>\n",
       "      <th>NR-Aromatase</th>\n",
       "      <td>1</td>\n",
       "      <td>0.97549</td>\n",
       "      <td>0.987593</td>\n",
       "      <td>0.999556</td>\n",
       "      <td>0.998751</td>\n",
       "      <td>0.987745</td>\n",
       "      <td>0.987745</td>\n",
       "    </tr>\n",
       "    <tr>\n",
       "      <th>NR-ER-LBD</th>\n",
       "      <td>0.995763</td>\n",
       "      <td>0.955285</td>\n",
       "      <td>0.975104</td>\n",
       "      <td>0.998705</td>\n",
       "      <td>0.997486</td>\n",
       "      <td>0.977532</td>\n",
       "      <td>0.977532</td>\n",
       "    </tr>\n",
       "    <tr>\n",
       "      <th>NR-AhR</th>\n",
       "      <td>0.99604</td>\n",
       "      <td>0.961759</td>\n",
       "      <td>0.978599</td>\n",
       "      <td>0.999228</td>\n",
       "      <td>0.995101</td>\n",
       "      <td>0.980628</td>\n",
       "      <td>0.980628</td>\n",
       "    </tr>\n",
       "    <tr>\n",
       "      <th>SR-MMP</th>\n",
       "      <td>0.993661</td>\n",
       "      <td>0.973602</td>\n",
       "      <td>0.983529</td>\n",
       "      <td>0.999398</td>\n",
       "      <td>0.994737</td>\n",
       "      <td>0.986204</td>\n",
       "      <td>0.986204</td>\n",
       "    </tr>\n",
       "    <tr>\n",
       "      <th>NR-ER</th>\n",
       "      <td>0.987928</td>\n",
       "      <td>0.910946</td>\n",
       "      <td>0.947876</td>\n",
       "      <td>0.993268</td>\n",
       "      <td>0.987252</td>\n",
       "      <td>0.954662</td>\n",
       "      <td>0.954662</td>\n",
       "    </tr>\n",
       "    <tr>\n",
       "      <th>NR-PPAR-gamma</th>\n",
       "      <td>1</td>\n",
       "      <td>0.953488</td>\n",
       "      <td>0.97619</td>\n",
       "      <td>0.998943</td>\n",
       "      <td>0.998646</td>\n",
       "      <td>0.976744</td>\n",
       "      <td>0.976744</td>\n",
       "    </tr>\n",
       "    <tr>\n",
       "      <th>SR-p53</th>\n",
       "      <td>1</td>\n",
       "      <td>0.972414</td>\n",
       "      <td>0.986014</td>\n",
       "      <td>0.999614</td>\n",
       "      <td>0.998281</td>\n",
       "      <td>0.986207</td>\n",
       "      <td>0.986207</td>\n",
       "    </tr>\n",
       "    <tr>\n",
       "      <th>SR-ATAD5</th>\n",
       "      <td>1</td>\n",
       "      <td>0.955056</td>\n",
       "      <td>0.977011</td>\n",
       "      <td>0.999077</td>\n",
       "      <td>0.998358</td>\n",
       "      <td>0.977528</td>\n",
       "      <td>0.977528</td>\n",
       "    </tr>\n",
       "    <tr>\n",
       "      <th>NR-AR-LBD</th>\n",
       "      <td>1</td>\n",
       "      <td>0.97546</td>\n",
       "      <td>0.987578</td>\n",
       "      <td>0.999592</td>\n",
       "      <td>0.999137</td>\n",
       "      <td>0.98773</td>\n",
       "      <td>0.98773</td>\n",
       "    </tr>\n",
       "  </tbody>\n",
       "</table>\n",
       "</div>"
      ],
      "text/plain": [
       "              Precision    Recall        F1     AUPRC  Accuracy  \\\n",
       "SR-HSE                1  0.938697  0.968379  0.997959  0.996384   \n",
       "NR-AR                 1  0.957547  0.978313   0.99888  0.998203   \n",
       "SR-ARE         0.988871  0.964341  0.976452  0.997576  0.992494   \n",
       "NR-Aromatase          1   0.97549  0.987593  0.999556  0.998751   \n",
       "NR-ER-LBD      0.995763  0.955285  0.975104  0.998705  0.997486   \n",
       "NR-AhR          0.99604  0.961759  0.978599  0.999228  0.995101   \n",
       "SR-MMP         0.993661  0.973602  0.983529  0.999398  0.994737   \n",
       "NR-ER          0.987928  0.910946  0.947876  0.993268  0.987252   \n",
       "NR-PPAR-gamma         1  0.953488   0.97619  0.998943  0.998646   \n",
       "SR-p53                1  0.972414  0.986014  0.999614  0.998281   \n",
       "SR-ATAD5              1  0.955056  0.977011  0.999077  0.998358   \n",
       "NR-AR-LBD             1   0.97546  0.987578  0.999592  0.999137   \n",
       "\n",
       "              Balanced Accuracy   ROC_AUC  \n",
       "SR-HSE                 0.969349  0.969349  \n",
       "NR-AR                  0.978774  0.978774  \n",
       "SR-ARE                 0.981126  0.981126  \n",
       "NR-Aromatase           0.987745  0.987745  \n",
       "NR-ER-LBD              0.977532  0.977532  \n",
       "NR-AhR                 0.980628  0.980628  \n",
       "SR-MMP                 0.986204  0.986204  \n",
       "NR-ER                  0.954662  0.954662  \n",
       "NR-PPAR-gamma          0.976744  0.976744  \n",
       "SR-p53                 0.986207  0.986207  \n",
       "SR-ATAD5               0.977528  0.977528  \n",
       "NR-AR-LBD               0.98773   0.98773  "
      ]
     },
     "execution_count": 25,
     "metadata": {},
     "output_type": "execute_result"
    }
   ],
   "source": [
    "y_pred, y_score = get_pred_and_scores(rf_model, X_train)\n",
    "y_obs = y_train.values\n",
    "\n",
    "test_panel = testing.panel_of_test(targets, X_train, y_train.values, sample_weights = mask_train.values)\n",
    "test_panel.compute_basic_metrics(y_pred, y_score)"
   ]
  },
  {
   "cell_type": "markdown",
   "metadata": {},
   "source": [
    "#### Testing"
   ]
  },
  {
   "cell_type": "code",
   "execution_count": 26,
   "metadata": {},
   "outputs": [
    {
     "data": {
      "application/vnd.jupyter.widget-view+json": {
       "model_id": "748a15d7b10242ef9545150dfbc14f3e",
       "version_major": 2,
       "version_minor": 0
      },
      "text/plain": [
       "HBox(children=(FloatProgress(value=0.0, max=12.0), HTML(value='')))"
      ]
     },
     "metadata": {},
     "output_type": "display_data"
    },
    {
     "name": "stdout",
     "output_type": "stream",
     "text": [
      "\n"
     ]
    },
    {
     "name": "stderr",
     "output_type": "stream",
     "text": [
      "/Users/rezacolindoobary/opt/anaconda3/envs/ml_env/lib/python3.6/site-packages/sklearn/metrics/_ranking.py:655: RuntimeWarning: invalid value encountered in true_divide\n",
      "  precision = tps / (tps + fps)\n"
     ]
    },
    {
     "data": {
      "text/html": [
       "<div>\n",
       "<style scoped>\n",
       "    .dataframe tbody tr th:only-of-type {\n",
       "        vertical-align: middle;\n",
       "    }\n",
       "\n",
       "    .dataframe tbody tr th {\n",
       "        vertical-align: top;\n",
       "    }\n",
       "\n",
       "    .dataframe thead th {\n",
       "        text-align: right;\n",
       "    }\n",
       "</style>\n",
       "<table border=\"1\" class=\"dataframe\">\n",
       "  <thead>\n",
       "    <tr style=\"text-align: right;\">\n",
       "      <th></th>\n",
       "      <th>Precision</th>\n",
       "      <th>Recall</th>\n",
       "      <th>F1</th>\n",
       "      <th>AUPRC</th>\n",
       "      <th>Accuracy</th>\n",
       "      <th>Balanced Accuracy</th>\n",
       "      <th>ROC_AUC</th>\n",
       "    </tr>\n",
       "  </thead>\n",
       "  <tbody>\n",
       "    <tr>\n",
       "      <th>SR-HSE</th>\n",
       "      <td>0.5</td>\n",
       "      <td>0.059322</td>\n",
       "      <td>0.106061</td>\n",
       "      <td>0.175205</td>\n",
       "      <td>0.946069</td>\n",
       "      <td>0.52797</td>\n",
       "      <td>0.52797</td>\n",
       "    </tr>\n",
       "    <tr>\n",
       "      <th>NR-AR</th>\n",
       "      <td>0.803922</td>\n",
       "      <td>0.418367</td>\n",
       "      <td>0.550336</td>\n",
       "      <td>0.530519</td>\n",
       "      <td>0.972709</td>\n",
       "      <td>0.707062</td>\n",
       "      <td>0.707062</td>\n",
       "    </tr>\n",
       "    <tr>\n",
       "      <th>SR-ARE</th>\n",
       "      <td>0.68254</td>\n",
       "      <td>0.133127</td>\n",
       "      <td>0.222798</td>\n",
       "      <td>0.454856</td>\n",
       "      <td>0.846861</td>\n",
       "      <td>0.560451</td>\n",
       "      <td>0.560451</td>\n",
       "    </tr>\n",
       "    <tr>\n",
       "      <th>NR-Aromatase</th>\n",
       "      <td>0.769231</td>\n",
       "      <td>0.0934579</td>\n",
       "      <td>0.166667</td>\n",
       "      <td>0.295378</td>\n",
       "      <td>0.948927</td>\n",
       "      <td>0.545919</td>\n",
       "      <td>0.545919</td>\n",
       "    </tr>\n",
       "    <tr>\n",
       "      <th>NR-ER-LBD</th>\n",
       "      <td>0.710526</td>\n",
       "      <td>0.243243</td>\n",
       "      <td>0.362416</td>\n",
       "      <td>0.406449</td>\n",
       "      <td>0.959729</td>\n",
       "      <td>0.619175</td>\n",
       "      <td>0.619175</td>\n",
       "    </tr>\n",
       "    <tr>\n",
       "      <th>NR-AhR</th>\n",
       "      <td>0.771084</td>\n",
       "      <td>0.243346</td>\n",
       "      <td>0.369942</td>\n",
       "      <td>0.535456</td>\n",
       "      <td>0.901802</td>\n",
       "      <td>0.616819</td>\n",
       "      <td>0.616819</td>\n",
       "    </tr>\n",
       "    <tr>\n",
       "      <th>SR-MMP</th>\n",
       "      <td>0.738318</td>\n",
       "      <td>0.265993</td>\n",
       "      <td>0.391089</td>\n",
       "      <td>0.609741</td>\n",
       "      <td>0.873652</td>\n",
       "      <td>0.624512</td>\n",
       "      <td>0.624512</td>\n",
       "    </tr>\n",
       "    <tr>\n",
       "      <th>NR-ER</th>\n",
       "      <td>0.581395</td>\n",
       "      <td>0.192308</td>\n",
       "      <td>0.289017</td>\n",
       "      <td>0.351963</td>\n",
       "      <td>0.882521</td>\n",
       "      <td>0.586339</td>\n",
       "      <td>0.586339</td>\n",
       "    </tr>\n",
       "    <tr>\n",
       "      <th>NR-PPAR-gamma</th>\n",
       "      <td>0.5</td>\n",
       "      <td>0.0333333</td>\n",
       "      <td>0.0625</td>\n",
       "      <td>0.184745</td>\n",
       "      <td>0.97235</td>\n",
       "      <td>0.516193</td>\n",
       "      <td>0.516193</td>\n",
       "    </tr>\n",
       "    <tr>\n",
       "      <th>SR-p53</th>\n",
       "      <td>0.533333</td>\n",
       "      <td>0.0567376</td>\n",
       "      <td>0.102564</td>\n",
       "      <td>0.268889</td>\n",
       "      <td>0.938353</td>\n",
       "      <td>0.526726</td>\n",
       "      <td>0.526726</td>\n",
       "    </tr>\n",
       "    <tr>\n",
       "      <th>SR-ATAD5</th>\n",
       "      <td>0.857143</td>\n",
       "      <td>0.0674157</td>\n",
       "      <td>0.125</td>\n",
       "      <td>0.303089</td>\n",
       "      <td>0.964706</td>\n",
       "      <td>0.53349</td>\n",
       "      <td>0.53349</td>\n",
       "    </tr>\n",
       "    <tr>\n",
       "      <th>NR-AR-LBD</th>\n",
       "      <td>0.763158</td>\n",
       "      <td>0.386667</td>\n",
       "      <td>0.513274</td>\n",
       "      <td>0.551939</td>\n",
       "      <td>0.97593</td>\n",
       "      <td>0.691297</td>\n",
       "      <td>0.691297</td>\n",
       "    </tr>\n",
       "  </tbody>\n",
       "</table>\n",
       "</div>"
      ],
      "text/plain": [
       "              Precision     Recall        F1     AUPRC  Accuracy  \\\n",
       "SR-HSE              0.5   0.059322  0.106061  0.175205  0.946069   \n",
       "NR-AR          0.803922   0.418367  0.550336  0.530519  0.972709   \n",
       "SR-ARE          0.68254   0.133127  0.222798  0.454856  0.846861   \n",
       "NR-Aromatase   0.769231  0.0934579  0.166667  0.295378  0.948927   \n",
       "NR-ER-LBD      0.710526   0.243243  0.362416  0.406449  0.959729   \n",
       "NR-AhR         0.771084   0.243346  0.369942  0.535456  0.901802   \n",
       "SR-MMP         0.738318   0.265993  0.391089  0.609741  0.873652   \n",
       "NR-ER          0.581395   0.192308  0.289017  0.351963  0.882521   \n",
       "NR-PPAR-gamma       0.5  0.0333333    0.0625  0.184745   0.97235   \n",
       "SR-p53         0.533333  0.0567376  0.102564  0.268889  0.938353   \n",
       "SR-ATAD5       0.857143  0.0674157     0.125  0.303089  0.964706   \n",
       "NR-AR-LBD      0.763158   0.386667  0.513274  0.551939   0.97593   \n",
       "\n",
       "              Balanced Accuracy   ROC_AUC  \n",
       "SR-HSE                  0.52797   0.52797  \n",
       "NR-AR                  0.707062  0.707062  \n",
       "SR-ARE                 0.560451  0.560451  \n",
       "NR-Aromatase           0.545919  0.545919  \n",
       "NR-ER-LBD              0.619175  0.619175  \n",
       "NR-AhR                 0.616819  0.616819  \n",
       "SR-MMP                 0.624512  0.624512  \n",
       "NR-ER                  0.586339  0.586339  \n",
       "NR-PPAR-gamma          0.516193  0.516193  \n",
       "SR-p53                 0.526726  0.526726  \n",
       "SR-ATAD5                0.53349   0.53349  \n",
       "NR-AR-LBD              0.691297  0.691297  "
      ]
     },
     "execution_count": 26,
     "metadata": {},
     "output_type": "execute_result"
    }
   ],
   "source": [
    "y_pred, y_score = get_pred_and_scores(rf_model, X_test)\n",
    "y_obs = y_test.values\n",
    "\n",
    "test_panel = testing.panel_of_test(targets, X_test, y_test.values, sample_weights = mask_test.values)\n",
    "rf_test_metrics = test_panel.compute_basic_metrics(y_pred, y_score)\n",
    "rf_test_metrics"
   ]
  },
  {
   "cell_type": "code",
   "execution_count": 28,
   "metadata": {},
   "outputs": [
    {
     "data": {
      "text/plain": [
       "'|               |   Precision |    Recall |       F1 |    AUPRC |   Accuracy |   Balanced Accuracy |   ROC_AUC |\\n|:--------------|------------:|----------:|---------:|---------:|-----------:|--------------------:|----------:|\\n| SR-HSE        |    0.5      | 0.059322  | 0.106061 | 0.175205 |   0.946069 |            0.52797  |  0.52797  |\\n| NR-AR         |    0.803922 | 0.418367  | 0.550336 | 0.530519 |   0.972709 |            0.707062 |  0.707062 |\\n| SR-ARE        |    0.68254  | 0.133127  | 0.222798 | 0.454856 |   0.846861 |            0.560451 |  0.560451 |\\n| NR-Aromatase  |    0.769231 | 0.0934579 | 0.166667 | 0.295378 |   0.948927 |            0.545919 |  0.545919 |\\n| NR-ER-LBD     |    0.710526 | 0.243243  | 0.362416 | 0.406449 |   0.959729 |            0.619175 |  0.619175 |\\n| NR-AhR        |    0.771084 | 0.243346  | 0.369942 | 0.535456 |   0.901802 |            0.616819 |  0.616819 |\\n| SR-MMP        |    0.738318 | 0.265993  | 0.391089 | 0.609741 |   0.873652 |            0.624512 |  0.624512 |\\n| NR-ER         |    0.581395 | 0.192308  | 0.289017 | 0.351963 |   0.882521 |            0.586339 |  0.586339 |\\n| NR-PPAR-gamma |    0.5      | 0.0333333 | 0.0625   | 0.184745 |   0.97235  |            0.516193 |  0.516193 |\\n| SR-p53        |    0.533333 | 0.0567376 | 0.102564 | 0.268889 |   0.938353 |            0.526726 |  0.526726 |\\n| SR-ATAD5      |    0.857143 | 0.0674157 | 0.125    | 0.303089 |   0.964706 |            0.53349  |  0.53349  |\\n| NR-AR-LBD     |    0.763158 | 0.386667  | 0.513274 | 0.551939 |   0.97593  |            0.691297 |  0.691297 |'"
      ]
     },
     "execution_count": 28,
     "metadata": {},
     "output_type": "execute_result"
    }
   ],
   "source": [
    "rf_test_metrics.to_markdown()"
   ]
  },
  {
   "cell_type": "markdown",
   "metadata": {},
   "source": [
    "We can also show the precision-recall curve for each of the targets"
   ]
  },
  {
   "cell_type": "code",
   "execution_count": 186,
   "metadata": {},
   "outputs": [
    {
     "data": {
      "image/png": "[encoded data removed]",
      "text/plain": [
       "<Figure size 1440x1440 with 12 Axes>"
      ]
     },
     "metadata": {
      "needs_background": "light"
     },
     "output_type": "display_data"
    }
   ],
   "source": [
    "test_panel.plot_recall_precision(y_score, extra_index = False)"
   ]
  },
  {
   "cell_type": "markdown",
   "metadata": {},
   "source": [
    "### XGBoostClassifier"
   ]
  },
  {
   "cell_type": "markdown",
   "metadata": {},
   "source": [
    "#### Training"
   ]
  },
  {
   "cell_type": "code",
   "execution_count": 187,
   "metadata": {},
   "outputs": [
    {
     "data": {
      "application/vnd.jupyter.widget-view+json": {
       "model_id": "965f274d495e413581b85ec964f8f3a9",
       "version_major": 2,
       "version_minor": 0
      },
      "text/plain": [
       "HBox(children=(FloatProgress(value=0.0, max=12.0), HTML(value='')))"
      ]
     },
     "metadata": {},
     "output_type": "display_data"
    },
    {
     "name": "stdout",
     "output_type": "stream",
     "text": [
      "\n"
     ]
    },
    {
     "data": {
      "text/html": [
       "<div>\n",
       "<style scoped>\n",
       "    .dataframe tbody tr th:only-of-type {\n",
       "        vertical-align: middle;\n",
       "    }\n",
       "\n",
       "    .dataframe tbody tr th {\n",
       "        vertical-align: top;\n",
       "    }\n",
       "\n",
       "    .dataframe thead th {\n",
       "        text-align: right;\n",
       "    }\n",
       "</style>\n",
       "<table border=\"1\" class=\"dataframe\">\n",
       "  <thead>\n",
       "    <tr style=\"text-align: right;\">\n",
       "      <th></th>\n",
       "      <th>Precision</th>\n",
       "      <th>Recall</th>\n",
       "      <th>F1</th>\n",
       "      <th>AUPRC</th>\n",
       "      <th>Accuracy</th>\n",
       "      <th>Balanced Accuracy</th>\n",
       "      <th>ROC_AUC</th>\n",
       "    </tr>\n",
       "  </thead>\n",
       "  <tbody>\n",
       "    <tr>\n",
       "      <th>SR-HSE</th>\n",
       "      <td>1</td>\n",
       "      <td>0.666667</td>\n",
       "      <td>0.8</td>\n",
       "      <td>0.957642</td>\n",
       "      <td>0.980339</td>\n",
       "      <td>0.833333</td>\n",
       "      <td>0.833333</td>\n",
       "    </tr>\n",
       "    <tr>\n",
       "      <th>NR-AR</th>\n",
       "      <td>0.982558</td>\n",
       "      <td>0.79717</td>\n",
       "      <td>0.880208</td>\n",
       "      <td>0.986429</td>\n",
       "      <td>0.990815</td>\n",
       "      <td>0.898272</td>\n",
       "      <td>0.898272</td>\n",
       "    </tr>\n",
       "    <tr>\n",
       "      <th>SR-ARE</th>\n",
       "      <td>0.987952</td>\n",
       "      <td>0.635659</td>\n",
       "      <td>0.773585</td>\n",
       "      <td>0.958503</td>\n",
       "      <td>0.939955</td>\n",
       "      <td>0.817084</td>\n",
       "      <td>0.817084</td>\n",
       "    </tr>\n",
       "    <tr>\n",
       "      <th>NR-Aromatase</th>\n",
       "      <td>0.994048</td>\n",
       "      <td>0.818627</td>\n",
       "      <td>0.897849</td>\n",
       "      <td>0.995081</td>\n",
       "      <td>0.990507</td>\n",
       "      <td>0.909182</td>\n",
       "      <td>0.909182</td>\n",
       "    </tr>\n",
       "    <tr>\n",
       "      <th>NR-ER-LBD</th>\n",
       "      <td>0.988889</td>\n",
       "      <td>0.723577</td>\n",
       "      <td>0.835681</td>\n",
       "      <td>0.972939</td>\n",
       "      <td>0.985337</td>\n",
       "      <td>0.861568</td>\n",
       "      <td>0.861568</td>\n",
       "    </tr>\n",
       "    <tr>\n",
       "      <th>NR-AhR</th>\n",
       "      <td>0.987715</td>\n",
       "      <td>0.768642</td>\n",
       "      <td>0.864516</td>\n",
       "      <td>0.977377</td>\n",
       "      <td>0.971944</td>\n",
       "      <td>0.883691</td>\n",
       "      <td>0.883691</td>\n",
       "    </tr>\n",
       "    <tr>\n",
       "      <th>SR-MMP</th>\n",
       "      <td>0.990177</td>\n",
       "      <td>0.782609</td>\n",
       "      <td>0.874241</td>\n",
       "      <td>0.984192</td>\n",
       "      <td>0.963659</td>\n",
       "      <td>0.890557</td>\n",
       "      <td>0.890557</td>\n",
       "    </tr>\n",
       "    <tr>\n",
       "      <th>NR-ER</th>\n",
       "      <td>0.989583</td>\n",
       "      <td>0.528757</td>\n",
       "      <td>0.689238</td>\n",
       "      <td>0.923123</td>\n",
       "      <td>0.93933</td>\n",
       "      <td>0.763973</td>\n",
       "      <td>0.763973</td>\n",
       "    </tr>\n",
       "    <tr>\n",
       "      <th>NR-PPAR-gamma</th>\n",
       "      <td>1</td>\n",
       "      <td>0.728682</td>\n",
       "      <td>0.843049</td>\n",
       "      <td>0.980376</td>\n",
       "      <td>0.992103</td>\n",
       "      <td>0.864341</td>\n",
       "      <td>0.864341</td>\n",
       "    </tr>\n",
       "    <tr>\n",
       "      <th>SR-p53</th>\n",
       "      <td>1</td>\n",
       "      <td>0.796552</td>\n",
       "      <td>0.886756</td>\n",
       "      <td>0.991512</td>\n",
       "      <td>0.987325</td>\n",
       "      <td>0.898276</td>\n",
       "      <td>0.898276</td>\n",
       "    </tr>\n",
       "    <tr>\n",
       "      <th>SR-ATAD5</th>\n",
       "      <td>1</td>\n",
       "      <td>0.848315</td>\n",
       "      <td>0.917933</td>\n",
       "      <td>0.993037</td>\n",
       "      <td>0.994457</td>\n",
       "      <td>0.924157</td>\n",
       "      <td>0.924157</td>\n",
       "    </tr>\n",
       "    <tr>\n",
       "      <th>NR-AR-LBD</th>\n",
       "      <td>1</td>\n",
       "      <td>0.92638</td>\n",
       "      <td>0.961783</td>\n",
       "      <td>0.9983</td>\n",
       "      <td>0.997412</td>\n",
       "      <td>0.96319</td>\n",
       "      <td>0.96319</td>\n",
       "    </tr>\n",
       "  </tbody>\n",
       "</table>\n",
       "</div>"
      ],
      "text/plain": [
       "              Precision    Recall        F1     AUPRC  Accuracy  \\\n",
       "SR-HSE                1  0.666667       0.8  0.957642  0.980339   \n",
       "NR-AR          0.982558   0.79717  0.880208  0.986429  0.990815   \n",
       "SR-ARE         0.987952  0.635659  0.773585  0.958503  0.939955   \n",
       "NR-Aromatase   0.994048  0.818627  0.897849  0.995081  0.990507   \n",
       "NR-ER-LBD      0.988889  0.723577  0.835681  0.972939  0.985337   \n",
       "NR-AhR         0.987715  0.768642  0.864516  0.977377  0.971944   \n",
       "SR-MMP         0.990177  0.782609  0.874241  0.984192  0.963659   \n",
       "NR-ER          0.989583  0.528757  0.689238  0.923123   0.93933   \n",
       "NR-PPAR-gamma         1  0.728682  0.843049  0.980376  0.992103   \n",
       "SR-p53                1  0.796552  0.886756  0.991512  0.987325   \n",
       "SR-ATAD5              1  0.848315  0.917933  0.993037  0.994457   \n",
       "NR-AR-LBD             1   0.92638  0.961783    0.9983  0.997412   \n",
       "\n",
       "              Balanced Accuracy   ROC_AUC  \n",
       "SR-HSE                 0.833333  0.833333  \n",
       "NR-AR                  0.898272  0.898272  \n",
       "SR-ARE                 0.817084  0.817084  \n",
       "NR-Aromatase           0.909182  0.909182  \n",
       "NR-ER-LBD              0.861568  0.861568  \n",
       "NR-AhR                 0.883691  0.883691  \n",
       "SR-MMP                 0.890557  0.890557  \n",
       "NR-ER                  0.763973  0.763973  \n",
       "NR-PPAR-gamma          0.864341  0.864341  \n",
       "SR-p53                 0.898276  0.898276  \n",
       "SR-ATAD5               0.924157  0.924157  \n",
       "NR-AR-LBD               0.96319   0.96319  "
      ]
     },
     "execution_count": 187,
     "metadata": {},
     "output_type": "execute_result"
    }
   ],
   "source": [
    "y_pred, y_score = get_pred_and_scores(xgb_model, X_train)\n",
    "y_obs = y_train.values\n",
    "\n",
    "test_panel = testing.panel_of_test(targets, X_train, y_train.values, sample_weights = mask_train.values)\n",
    "test_panel.compute_basic_metrics(y_pred, y_score)"
   ]
  },
  {
   "cell_type": "markdown",
   "metadata": {},
   "source": [
    "#### Testing"
   ]
  },
  {
   "cell_type": "code",
   "execution_count": 192,
   "metadata": {},
   "outputs": [
    {
     "data": {
      "application/vnd.jupyter.widget-view+json": {
       "model_id": "09241a597ee740758d2982209e773001",
       "version_major": 2,
       "version_minor": 0
      },
      "text/plain": [
       "HBox(children=(FloatProgress(value=0.0, max=12.0), HTML(value='')))"
      ]
     },
     "metadata": {},
     "output_type": "display_data"
    },
    {
     "name": "stderr",
     "output_type": "stream",
     "text": [
      "/Users/rezacolindoobary/opt/anaconda3/envs/ml_env/lib/python3.6/site-packages/sklearn/metrics/_ranking.py:655: RuntimeWarning: invalid value encountered in true_divide\n",
      "  precision = tps / (tps + fps)\n",
      "/Users/rezacolindoobary/opt/anaconda3/envs/ml_env/lib/python3.6/site-packages/sklearn/metrics/_ranking.py:655: RuntimeWarning: invalid value encountered in true_divide\n",
      "  precision = tps / (tps + fps)\n"
     ]
    },
    {
     "name": "stdout",
     "output_type": "stream",
     "text": [
      "\n"
     ]
    },
    {
     "data": {
      "text/html": [
       "<div>\n",
       "<style scoped>\n",
       "    .dataframe tbody tr th:only-of-type {\n",
       "        vertical-align: middle;\n",
       "    }\n",
       "\n",
       "    .dataframe tbody tr th {\n",
       "        vertical-align: top;\n",
       "    }\n",
       "\n",
       "    .dataframe thead th {\n",
       "        text-align: right;\n",
       "    }\n",
       "</style>\n",
       "<table border=\"1\" class=\"dataframe\">\n",
       "  <thead>\n",
       "    <tr style=\"text-align: right;\">\n",
       "      <th></th>\n",
       "      <th>Precision</th>\n",
       "      <th>Recall</th>\n",
       "      <th>F1</th>\n",
       "      <th>AUPRC</th>\n",
       "      <th>Accuracy</th>\n",
       "      <th>Balanced Accuracy</th>\n",
       "      <th>ROC_AUC</th>\n",
       "    </tr>\n",
       "  </thead>\n",
       "  <tbody>\n",
       "    <tr>\n",
       "      <th>SR-HSE</th>\n",
       "      <td>0.421053</td>\n",
       "      <td>0.0677966</td>\n",
       "      <td>0.116788</td>\n",
       "      <td>0.19373</td>\n",
       "      <td>0.944698</td>\n",
       "      <td>0.531241</td>\n",
       "      <td>0.531241</td>\n",
       "    </tr>\n",
       "    <tr>\n",
       "      <th>NR-AR</th>\n",
       "      <td>0.792453</td>\n",
       "      <td>0.428571</td>\n",
       "      <td>0.556291</td>\n",
       "      <td>0.534299</td>\n",
       "      <td>0.972709</td>\n",
       "      <td>0.711952</td>\n",
       "      <td>0.711952</td>\n",
       "    </tr>\n",
       "    <tr>\n",
       "      <th>SR-ARE</th>\n",
       "      <td>0.642857</td>\n",
       "      <td>0.167183</td>\n",
       "      <td>0.265356</td>\n",
       "      <td>0.419321</td>\n",
       "      <td>0.847371</td>\n",
       "      <td>0.574423</td>\n",
       "      <td>0.574423</td>\n",
       "    </tr>\n",
       "    <tr>\n",
       "      <th>NR-Aromatase</th>\n",
       "      <td>0.642857</td>\n",
       "      <td>0.0841121</td>\n",
       "      <td>0.14876</td>\n",
       "      <td>0.261264</td>\n",
       "      <td>0.947395</td>\n",
       "      <td>0.540705</td>\n",
       "      <td>0.540705</td>\n",
       "    </tr>\n",
       "    <tr>\n",
       "      <th>NR-ER-LBD</th>\n",
       "      <td>0.690476</td>\n",
       "      <td>0.261261</td>\n",
       "      <td>0.379085</td>\n",
       "      <td>0.406397</td>\n",
       "      <td>0.959729</td>\n",
       "      <td>0.627739</td>\n",
       "      <td>0.627739</td>\n",
       "    </tr>\n",
       "    <tr>\n",
       "      <th>NR-AhR</th>\n",
       "      <td>0.730769</td>\n",
       "      <td>0.288973</td>\n",
       "      <td>0.414169</td>\n",
       "      <td>0.53387</td>\n",
       "      <td>0.903153</td>\n",
       "      <td>0.637333</td>\n",
       "      <td>0.637333</td>\n",
       "    </tr>\n",
       "    <tr>\n",
       "      <th>SR-MMP</th>\n",
       "      <td>0.654412</td>\n",
       "      <td>0.299663</td>\n",
       "      <td>0.411085</td>\n",
       "      <td>0.563237</td>\n",
       "      <td>0.869029</td>\n",
       "      <td>0.635589</td>\n",
       "      <td>0.635589</td>\n",
       "    </tr>\n",
       "    <tr>\n",
       "      <th>NR-ER</th>\n",
       "      <td>0.64557</td>\n",
       "      <td>0.196154</td>\n",
       "      <td>0.300885</td>\n",
       "      <td>0.368364</td>\n",
       "      <td>0.886819</td>\n",
       "      <td>0.590443</td>\n",
       "      <td>0.590443</td>\n",
       "    </tr>\n",
       "    <tr>\n",
       "      <th>NR-PPAR-gamma</th>\n",
       "      <td>0.5</td>\n",
       "      <td>0.0666667</td>\n",
       "      <td>0.117647</td>\n",
       "      <td>0.136329</td>\n",
       "      <td>0.97235</td>\n",
       "      <td>0.532385</td>\n",
       "      <td>0.532385</td>\n",
       "    </tr>\n",
       "    <tr>\n",
       "      <th>SR-p53</th>\n",
       "      <td>0.461538</td>\n",
       "      <td>0.0851064</td>\n",
       "      <td>0.143713</td>\n",
       "      <td>0.233607</td>\n",
       "      <td>0.937032</td>\n",
       "      <td>0.539267</td>\n",
       "      <td>0.539267</td>\n",
       "    </tr>\n",
       "    <tr>\n",
       "      <th>SR-ATAD5</th>\n",
       "      <td>0.555556</td>\n",
       "      <td>0.11236</td>\n",
       "      <td>0.186916</td>\n",
       "      <td>0.268461</td>\n",
       "      <td>0.963445</td>\n",
       "      <td>0.554434</td>\n",
       "      <td>0.554434</td>\n",
       "    </tr>\n",
       "    <tr>\n",
       "      <th>NR-AR-LBD</th>\n",
       "      <td>0.708333</td>\n",
       "      <td>0.453333</td>\n",
       "      <td>0.552846</td>\n",
       "      <td>0.536476</td>\n",
       "      <td>0.97593</td>\n",
       "      <td>0.723499</td>\n",
       "      <td>0.723499</td>\n",
       "    </tr>\n",
       "  </tbody>\n",
       "</table>\n",
       "</div>"
      ],
      "text/plain": [
       "              Precision     Recall        F1     AUPRC  Accuracy  \\\n",
       "SR-HSE         0.421053  0.0677966  0.116788   0.19373  0.944698   \n",
       "NR-AR          0.792453   0.428571  0.556291  0.534299  0.972709   \n",
       "SR-ARE         0.642857   0.167183  0.265356  0.419321  0.847371   \n",
       "NR-Aromatase   0.642857  0.0841121   0.14876  0.261264  0.947395   \n",
       "NR-ER-LBD      0.690476   0.261261  0.379085  0.406397  0.959729   \n",
       "NR-AhR         0.730769   0.288973  0.414169   0.53387  0.903153   \n",
       "SR-MMP         0.654412   0.299663  0.411085  0.563237  0.869029   \n",
       "NR-ER           0.64557   0.196154  0.300885  0.368364  0.886819   \n",
       "NR-PPAR-gamma       0.5  0.0666667  0.117647  0.136329   0.97235   \n",
       "SR-p53         0.461538  0.0851064  0.143713  0.233607  0.937032   \n",
       "SR-ATAD5       0.555556    0.11236  0.186916  0.268461  0.963445   \n",
       "NR-AR-LBD      0.708333   0.453333  0.552846  0.536476   0.97593   \n",
       "\n",
       "              Balanced Accuracy   ROC_AUC  \n",
       "SR-HSE                 0.531241  0.531241  \n",
       "NR-AR                  0.711952  0.711952  \n",
       "SR-ARE                 0.574423  0.574423  \n",
       "NR-Aromatase           0.540705  0.540705  \n",
       "NR-ER-LBD              0.627739  0.627739  \n",
       "NR-AhR                 0.637333  0.637333  \n",
       "SR-MMP                 0.635589  0.635589  \n",
       "NR-ER                  0.590443  0.590443  \n",
       "NR-PPAR-gamma          0.532385  0.532385  \n",
       "SR-p53                 0.539267  0.539267  \n",
       "SR-ATAD5               0.554434  0.554434  \n",
       "NR-AR-LBD              0.723499  0.723499  "
      ]
     },
     "execution_count": 192,
     "metadata": {},
     "output_type": "execute_result"
    }
   ],
   "source": [
    "y_pred, y_score = get_pred_and_scores(xgb_model, X_test)\n",
    "y_obs = y_test.values\n",
    "\n",
    "test_panel = testing.panel_of_test(targets, X_test, y_test.values, sample_weights = mask_test.values)\n",
    "xgb_test_metrics = test_panel.compute_basic_metrics(y_pred, y_score)\n",
    "xgb_test_metrics"
   ]
  },
  {
   "cell_type": "code",
   "execution_count": 190,
   "metadata": {},
   "outputs": [
    {
     "data": {
      "image/png": "[encoded data removed]",
      "text/plain": [
       "<Figure size 1440x1440 with 12 Axes>"
      ]
     },
     "metadata": {
      "needs_background": "light"
     },
     "output_type": "display_data"
    }
   ],
   "source": [
    "test_panel.plot_recall_precision(y_score, extra_index = False)"
   ]
  },
  {
   "cell_type": "markdown",
   "metadata": {},
   "source": [
    "## Conclusion"
   ]
  },
  {
   "cell_type": "markdown",
   "metadata": {},
   "source": [
    "In this notebook, we developed some very simple benchmark models for the dataset.\n",
    "Whilst dong this in mind, we kept in mind the various processings and testing tasks that need to be done. \n",
    "\n",
    "A quick analysis of the results above shows that Random Forest performed the better of the two. We can see this by simple comparing the means:"
   ]
  },
  {
   "cell_type": "code",
   "execution_count": 211,
   "metadata": {},
   "outputs": [],
   "source": [
    "result = pd.DataFrame(index = ['Precision', 'Recall', 'F1', 'AUPRC', 'Accuracy', 'Balanced Accuracy','ROC_AUC'])"
   ]
  },
  {
   "cell_type": "code",
   "execution_count": 217,
   "metadata": {},
   "outputs": [
    {
     "data": {
      "text/html": [
       "<div>\n",
       "<style scoped>\n",
       "    .dataframe tbody tr th:only-of-type {\n",
       "        vertical-align: middle;\n",
       "    }\n",
       "\n",
       "    .dataframe tbody tr th {\n",
       "        vertical-align: top;\n",
       "    }\n",
       "\n",
       "    .dataframe thead th {\n",
       "        text-align: right;\n",
       "    }\n",
       "</style>\n",
       "<table border=\"1\" class=\"dataframe\">\n",
       "  <thead>\n",
       "    <tr style=\"text-align: right;\">\n",
       "      <th></th>\n",
       "      <th>Precision</th>\n",
       "      <th>Recall</th>\n",
       "      <th>F1</th>\n",
       "      <th>AUPRC</th>\n",
       "      <th>Accuracy</th>\n",
       "      <th>Balanced Accuracy</th>\n",
       "      <th>ROC_AUC</th>\n",
       "    </tr>\n",
       "  </thead>\n",
       "  <tbody>\n",
       "    <tr>\n",
       "      <th>SR-HSE</th>\n",
       "      <td>RF</td>\n",
       "      <td>XGB</td>\n",
       "      <td>XGB</td>\n",
       "      <td>XGB</td>\n",
       "      <td>RF</td>\n",
       "      <td>XGB</td>\n",
       "      <td>XGB</td>\n",
       "    </tr>\n",
       "    <tr>\n",
       "      <th>NR-AR</th>\n",
       "      <td>XGB</td>\n",
       "      <td>XGB</td>\n",
       "      <td>XGB</td>\n",
       "      <td>XGB</td>\n",
       "      <td>XGB</td>\n",
       "      <td>XGB</td>\n",
       "      <td>XGB</td>\n",
       "    </tr>\n",
       "    <tr>\n",
       "      <th>SR-ARE</th>\n",
       "      <td>RF</td>\n",
       "      <td>XGB</td>\n",
       "      <td>XGB</td>\n",
       "      <td>RF</td>\n",
       "      <td>XGB</td>\n",
       "      <td>XGB</td>\n",
       "      <td>XGB</td>\n",
       "    </tr>\n",
       "    <tr>\n",
       "      <th>NR-Aromatase</th>\n",
       "      <td>RF</td>\n",
       "      <td>XGB</td>\n",
       "      <td>RF</td>\n",
       "      <td>RF</td>\n",
       "      <td>RF</td>\n",
       "      <td>RF</td>\n",
       "      <td>RF</td>\n",
       "    </tr>\n",
       "    <tr>\n",
       "      <th>NR-ER-LBD</th>\n",
       "      <td>RF</td>\n",
       "      <td>XGB</td>\n",
       "      <td>XGB</td>\n",
       "      <td>RF</td>\n",
       "      <td>XGB</td>\n",
       "      <td>XGB</td>\n",
       "      <td>XGB</td>\n",
       "    </tr>\n",
       "    <tr>\n",
       "      <th>NR-AhR</th>\n",
       "      <td>RF</td>\n",
       "      <td>XGB</td>\n",
       "      <td>XGB</td>\n",
       "      <td>XGB</td>\n",
       "      <td>XGB</td>\n",
       "      <td>XGB</td>\n",
       "      <td>XGB</td>\n",
       "    </tr>\n",
       "    <tr>\n",
       "      <th>SR-MMP</th>\n",
       "      <td>RF</td>\n",
       "      <td>XGB</td>\n",
       "      <td>XGB</td>\n",
       "      <td>RF</td>\n",
       "      <td>RF</td>\n",
       "      <td>XGB</td>\n",
       "      <td>XGB</td>\n",
       "    </tr>\n",
       "    <tr>\n",
       "      <th>NR-ER</th>\n",
       "      <td>XGB</td>\n",
       "      <td>XGB</td>\n",
       "      <td>XGB</td>\n",
       "      <td>XGB</td>\n",
       "      <td>XGB</td>\n",
       "      <td>XGB</td>\n",
       "      <td>XGB</td>\n",
       "    </tr>\n",
       "    <tr>\n",
       "      <th>NR-PPAR-gamma</th>\n",
       "      <td>XGB</td>\n",
       "      <td>XGB</td>\n",
       "      <td>XGB</td>\n",
       "      <td>RF</td>\n",
       "      <td>XGB</td>\n",
       "      <td>XGB</td>\n",
       "      <td>XGB</td>\n",
       "    </tr>\n",
       "    <tr>\n",
       "      <th>SR-p53</th>\n",
       "      <td>RF</td>\n",
       "      <td>XGB</td>\n",
       "      <td>XGB</td>\n",
       "      <td>RF</td>\n",
       "      <td>RF</td>\n",
       "      <td>XGB</td>\n",
       "      <td>XGB</td>\n",
       "    </tr>\n",
       "    <tr>\n",
       "      <th>SR-ATAD5</th>\n",
       "      <td>RF</td>\n",
       "      <td>XGB</td>\n",
       "      <td>XGB</td>\n",
       "      <td>RF</td>\n",
       "      <td>RF</td>\n",
       "      <td>XGB</td>\n",
       "      <td>XGB</td>\n",
       "    </tr>\n",
       "    <tr>\n",
       "      <th>NR-AR-LBD</th>\n",
       "      <td>RF</td>\n",
       "      <td>XGB</td>\n",
       "      <td>RF</td>\n",
       "      <td>RF</td>\n",
       "      <td>RF</td>\n",
       "      <td>XGB</td>\n",
       "      <td>XGB</td>\n",
       "    </tr>\n",
       "  </tbody>\n",
       "</table>\n",
       "</div>"
      ],
      "text/plain": [
       "              Precision Recall   F1 AUPRC Accuracy Balanced Accuracy ROC_AUC\n",
       "SR-HSE               RF    XGB  XGB   XGB       RF               XGB     XGB\n",
       "NR-AR               XGB    XGB  XGB   XGB      XGB               XGB     XGB\n",
       "SR-ARE               RF    XGB  XGB    RF      XGB               XGB     XGB\n",
       "NR-Aromatase         RF    XGB   RF    RF       RF                RF      RF\n",
       "NR-ER-LBD            RF    XGB  XGB    RF      XGB               XGB     XGB\n",
       "NR-AhR               RF    XGB  XGB   XGB      XGB               XGB     XGB\n",
       "SR-MMP               RF    XGB  XGB    RF       RF               XGB     XGB\n",
       "NR-ER               XGB    XGB  XGB   XGB      XGB               XGB     XGB\n",
       "NR-PPAR-gamma       XGB    XGB  XGB    RF      XGB               XGB     XGB\n",
       "SR-p53               RF    XGB  XGB    RF       RF               XGB     XGB\n",
       "SR-ATAD5             RF    XGB  XGB    RF       RF               XGB     XGB\n",
       "NR-AR-LBD            RF    XGB   RF    RF       RF               XGB     XGB"
      ]
     },
     "execution_count": 217,
     "metadata": {},
     "output_type": "execute_result"
    }
   ],
   "source": [
    "def temp_f(x):\n",
    "    if x:\n",
    "        return 'RF'\n",
    "    else:\n",
    "        return 'XGB'\n",
    "(rf_test_metrics > xgb_test_metrics).applymap(lambda x: temp_f(x))"
   ]
  },
  {
   "cell_type": "markdown",
   "metadata": {},
   "source": [
    "Interestingly, RF wins on our more relevant metrics, however XGB wins more of the metrics."
   ]
  }
 ],
 "metadata": {
  "kernelspec": {
   "display_name": "Python 3.6.9 64-bit ('ml_env': conda)",
   "language": "python",
   "name": "python36964bitmlenvconda9f54039d931e4029adcffd4ea832f0f0"
  },
  "language_info": {
   "codemirror_mode": {
    "name": "ipython",
    "version": 3
   },
   "file_extension": ".py",
   "mimetype": "text/x-python",
   "name": "python",
   "nbconvert_exporter": "python",
   "pygments_lexer": "ipython3",
   "version": "3.6.9"
  }
 },
 "nbformat": 4,
 "nbformat_minor": 2
}
