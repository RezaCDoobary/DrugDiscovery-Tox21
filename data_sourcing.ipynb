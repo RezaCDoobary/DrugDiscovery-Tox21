{
 "cells": [
  {
   "cell_type": "markdown",
   "metadata": {},
   "source": [
    "# Data Sourcing\n",
    "\n",
    "In this notebook, various data sourcing is put together, described and prepared. At first, the precide modelling data is investigated and the potential data sources are investigated."
   ]
  },
  {
   "cell_type": "code",
   "execution_count": 1,
   "metadata": {},
   "outputs": [],
   "source": [
    "import pandas as pd\n",
    "import numpy as np"
   ]
  },
  {
   "cell_type": "markdown",
   "metadata": {},
   "source": [
    "## What do we have?"
   ]
  },
  {
   "cell_type": "code",
   "execution_count": 2,
   "metadata": {},
   "outputs": [],
   "source": [
    "filename = 'data/data_dups_removed.csv'\n",
    "source = pd.read_csv(filename, index_col = 0)"
   ]
  },
  {
   "cell_type": "markdown",
   "metadata": {},
   "source": [
    "The main modelling data that is found id the the so-called 'SMILES' data: https://en.wikipedia.org/wiki/Simplified_molecular-input_line-entry_system"
   ]
  },
  {
   "cell_type": "code",
   "execution_count": 3,
   "metadata": {},
   "outputs": [
    {
     "data": {
      "text/plain": [
       "0    C[n+]1c2cc(N)ccc2cc2ccc(N)cc21.Nc1ccc2cc3ccc(N...\n",
       "1    O=C([O-])c1ccccc1-c1c2cc(Br)c(=O)c(Br)c-2oc2c(...\n",
       "2    CO[C@H]1CC(O[C@H]2C[C@H]([C@H]3O[C@](C)(O)[C@H...\n",
       "3    CN(C)c1ccc(C(=C2C=CC(=[N+](C)C)C=C2)c2ccccc2)c...\n",
       "4    CC(=O)O.CCNC(=O)[C@@H]1CCCN1C(=O)[C@H](CCCNC(=...\n",
       "Name: SMILES, dtype: object"
      ]
     },
     "execution_count": 3,
     "metadata": {},
     "output_type": "execute_result"
    }
   ],
   "source": [
    "source['SMILES'].head()"
   ]
  },
  {
   "cell_type": "markdown",
   "metadata": {},
   "source": [
    "We also have molecular weight (which is out only quantitative molecular descriptor):"
   ]
  },
  {
   "cell_type": "code",
   "execution_count": 4,
   "metadata": {},
   "outputs": [
    {
     "data": {
      "text/plain": [
       "0     468.9806\n",
       "1     691.8542\n",
       "2     934.1584\n",
       "3     927.0048\n",
       "4    1342.5025\n",
       "Name: FW, dtype: float64"
      ]
     },
     "execution_count": 4,
     "metadata": {},
     "output_type": "execute_result"
    }
   ],
   "source": [
    "source['FW'].head()"
   ]
  },
  {
   "cell_type": "markdown",
   "metadata": {},
   "source": [
    "## What are our data engineering options?\n",
    "\n",
    "There are two natural areas of data engineering that will be investigated:\n",
    "\n",
    "1. The SMILES data are strings, thus employing the use of tools from NLP would be useful, in particular we can use bag of wards (BOW) and vectorise the inputs for the use on sequential models (like RNN's).\n",
    "\n",
    "2. Employ damain molecular knowledge to investigate molecular representations of the smiles data : This would involve the use of pythonic libraries which specifically try to do this.\n",
    "\n",
    "Both directions are investigate here in the following ways:\n",
    "\n",
    "1. The basic technique is explained (particularly using code written in #INSERT SCRIPT NAME#.\n",
    "2. A pointer to the relevant part of the script is shown."
   ]
  },
  {
   "cell_type": "markdown",
   "metadata": {},
   "source": [
    "## Bag of words\n",
    "\n",
    "The bag of words technique, is the simple count the number of unique tokens in the sentence/word/document. In our case, the smile is a word and the components that are counted are the characters that make it up.\n",
    "\n",
    "A very important domain issue is that each character of the SMILE is not necessarily independent but may vry well be a part of an atom, thus we should treat the atoms of a SMILE as characters/words of the words/sentence."
   ]
  },
  {
   "cell_type": "code",
   "execution_count": 5,
   "metadata": {},
   "outputs": [],
   "source": [
    "import drugdiscovery.preprocessing as pp"
   ]
  },
  {
   "cell_type": "code",
   "execution_count": 6,
   "metadata": {},
   "outputs": [],
   "source": [
    "data = source.copy()\n",
    "smiles = data['SMILES'].values"
   ]
  },
  {
   "cell_type": "code",
   "execution_count": 7,
   "metadata": {},
   "outputs": [
    {
     "name": "stdout",
     "output_type": "stream",
     "text": [
      "O=C([O-])c1ccccc1-c1c2cc(Br)c(=O)c(Br)c-2oc2c(Br)c([O-])c(Br)cc12.[Na+].[Na+]\n",
      "O = C ( [ O - ] ) c 1 c c c c c 1 - c 1 c 2 c c ( Br ) c ( = O ) c ( Br ) c -2 o c 2 c ( Br ) c ( [ O - ] ) c ( Br ) c c 1 2 . [ Na + ] . [ Na + ]\n"
     ]
    }
   ],
   "source": [
    "print(smiles[1])\n",
    "print(pp._split(smiles[1]))"
   ]
  },
  {
   "cell_type": "code",
   "execution_count": 8,
   "metadata": {},
   "outputs": [],
   "source": [
    "bow = pp.BagOfWordsMols(smiles[:5])\n",
    "bow_mat = bow.fit()\n",
    "bow_transform  = bow.transform(smiles[5:10])"
   ]
  },
  {
   "cell_type": "code",
   "execution_count": 9,
   "metadata": {},
   "outputs": [
    {
     "data": {
      "text/plain": [
       "array([[ 2.,  1.,  0.,  2.,  3.,  0.,  3.,  2.,  4.,  4.,  0.,  0.,  0.,\n",
       "         0.,  0.,  1.,  0.,  1.,  6.,  0., 26.,  2.,  1.,  0.,  2.,  0.],\n",
       "       [ 4.,  1.,  0.,  2.,  7.,  0.,  7.,  4.,  4.,  0.,  2.,  1.,  1.,\n",
       "         2.,  0.,  3.,  4.,  2.,  3.,  4., 19.,  0.,  0.,  0.,  0.,  0.],\n",
       "       [25., 47.,  3.,  1., 19., 19., 19., 25.,  2.,  1.,  0.,  0.,  0.,\n",
       "         1., 31.,  1., 17.,  1.,  4.,  0.,  0.,  4.,  0.,  2.,  0.,  0.],\n",
       "       [ 4., 28.,  0.,  4., 16.,  0., 16.,  4.,  4.,  4.,  0.,  0.,  0.,\n",
       "        14.,  0.,  2., 12.,  2.,  8.,  0., 24.,  0.,  0.,  0.,  0.,  0.],\n",
       "       [12., 41.,  0.,  1., 21., 12., 21., 12., 12., 13.,  0.,  0.,  0.,\n",
       "        12., 12.,  0., 14.,  0.,  4.,  0., 25.,  0.,  0.,  0.,  4.,  0.]])"
      ]
     },
     "execution_count": 9,
     "metadata": {},
     "output_type": "execute_result"
    }
   ],
   "source": [
    "bow_mat"
   ]
  },
  {
   "cell_type": "code",
   "execution_count": 10,
   "metadata": {},
   "outputs": [
    {
     "data": {
      "text/plain": [
       "array([[ 0., 14.,  0.,  0.,  4.,  0.,  4.,  0.,  2.,  1.,  0.,  0.,  0.,\n",
       "         0.,  0.,  0.,  1.,  0.,  0.,  0.,  6.,  0.,  0.,  0.,  0.,  1.],\n",
       "       [ 3.,  1.,  0.,  0.,  2.,  1.,  2.,  3.,  2.,  1.,  0.,  0.,  0.,\n",
       "         1.,  0.,  1.,  3.,  1.,  2.,  0.,  6.,  0.,  0.,  0.,  0.,  1.],\n",
       "       [ 0., 10.,  0.,  0.,  4.,  0.,  4.,  0.,  0.,  2.,  0.,  0.,  0.,\n",
       "         2.,  0.,  0.,  0.,  0.,  0.,  0.,  0.,  0.,  0.,  0.,  0.,  4.],\n",
       "       [ 0., 16.,  0.,  1.,  3.,  0.,  3.,  0.,  2.,  2.,  0.,  0.,  0.,\n",
       "         1.,  0.,  0.,  1.,  0.,  2.,  0., 10.,  0.,  0.,  0.,  0.,  1.],\n",
       "       [ 3., 18.,  0.,  2.,  5.,  2.,  5.,  3.,  2.,  1.,  0.,  0.,  0.,\n",
       "         1.,  3.,  0.,  3.,  0.,  4.,  0., 13.,  2.,  0.,  0.,  2.,  3.]])"
      ]
     },
     "execution_count": 10,
     "metadata": {},
     "output_type": "execute_result"
    }
   ],
   "source": [
    "bow_transform"
   ]
  },
  {
   "cell_type": "code",
   "execution_count": 11,
   "metadata": {},
   "outputs": [],
   "source": [
    "# the symbols that the BOW model has fit for is as follows:"
   ]
  },
  {
   "cell_type": "code",
   "execution_count": 12,
   "metadata": {},
   "outputs": [
    {
     "data": {
      "text/html": [
       "<div>\n",
       "<style scoped>\n",
       "    .dataframe tbody tr th:only-of-type {\n",
       "        vertical-align: middle;\n",
       "    }\n",
       "\n",
       "    .dataframe tbody tr th {\n",
       "        vertical-align: top;\n",
       "    }\n",
       "\n",
       "    .dataframe thead th {\n",
       "        text-align: right;\n",
       "    }\n",
       "</style>\n",
       "<table border=\"1\" class=\"dataframe\">\n",
       "  <thead>\n",
       "    <tr style=\"text-align: right;\">\n",
       "      <th></th>\n",
       "      <th>]</th>\n",
       "      <th>C</th>\n",
       "      <th>4</th>\n",
       "      <th>.</th>\n",
       "      <th>(</th>\n",
       "      <th>H</th>\n",
       "      <th>)</th>\n",
       "      <th>[</th>\n",
       "      <th>1</th>\n",
       "      <th>N</th>\n",
       "      <th>...</th>\n",
       "      <th>O</th>\n",
       "      <th>+</th>\n",
       "      <th>2</th>\n",
       "      <th>Br</th>\n",
       "      <th>c</th>\n",
       "      <th>3</th>\n",
       "      <th>Cl</th>\n",
       "      <th>5</th>\n",
       "      <th>n</th>\n",
       "      <th>_unk_</th>\n",
       "    </tr>\n",
       "  </thead>\n",
       "  <tbody>\n",
       "    <tr>\n",
       "      <th>0</th>\n",
       "      <td>0</td>\n",
       "      <td>1</td>\n",
       "      <td>2</td>\n",
       "      <td>3</td>\n",
       "      <td>4</td>\n",
       "      <td>5</td>\n",
       "      <td>6</td>\n",
       "      <td>7</td>\n",
       "      <td>8</td>\n",
       "      <td>9</td>\n",
       "      <td>...</td>\n",
       "      <td>16</td>\n",
       "      <td>17</td>\n",
       "      <td>18</td>\n",
       "      <td>19</td>\n",
       "      <td>20</td>\n",
       "      <td>21</td>\n",
       "      <td>22</td>\n",
       "      <td>23</td>\n",
       "      <td>24</td>\n",
       "      <td>25</td>\n",
       "    </tr>\n",
       "  </tbody>\n",
       "</table>\n",
       "<p>1 rows × 26 columns</p>\n",
       "</div>"
      ],
      "text/plain": [
       "   ]  C  4  .  (  H  )  [  1  N  ...   O   +   2  Br   c   3  Cl   5   n  \\\n",
       "0  0  1  2  3  4  5  6  7  8  9  ...  16  17  18  19  20  21  22  23  24   \n",
       "\n",
       "   _unk_  \n",
       "0     25  \n",
       "\n",
       "[1 rows x 26 columns]"
      ]
     },
     "execution_count": 12,
     "metadata": {},
     "output_type": "execute_result"
    }
   ],
   "source": [
    "pd.DataFrame([bow.sym_idx])"
   ]
  },
  {
   "cell_type": "markdown",
   "metadata": {},
   "source": [
    "## Vector/Token representation\n",
    "\n",
    "The vector representation provides a vectoral representation that maintains the sequeunces of the tokens (in this case atoms)."
   ]
  },
  {
   "cell_type": "code",
   "execution_count": 13,
   "metadata": {},
   "outputs": [],
   "source": [
    "vr = pp.VectorRepresentationMols(smiles[:5])\n",
    "vr_mat = vr.fit()\n",
    "vr_transform  = vr.transform(smiles)"
   ]
  },
  {
   "cell_type": "code",
   "execution_count": 14,
   "metadata": {},
   "outputs": [
    {
     "data": {
      "text/plain": [
       "(5, 222)"
      ]
     },
     "execution_count": 14,
     "metadata": {},
     "output_type": "execute_result"
    }
   ],
   "source": [
    "vr_mat.shape"
   ]
  },
  {
   "cell_type": "code",
   "execution_count": 15,
   "metadata": {},
   "outputs": [
    {
     "data": {
      "text/plain": [
       "array([[ 1,  7, 24, ..., 26, 26, 26],\n",
       "       [16, 13,  1, ..., 26, 26, 26],\n",
       "       [ 1, 16,  7, ...,  2, 17,  0],\n",
       "       ...,\n",
       "       [25, 13,  1, ..., 26, 26, 26],\n",
       "       [25, 13,  1, ..., 26, 26, 26],\n",
       "       [ 1,  1,  1, ..., 26, 26, 26]])"
      ]
     },
     "execution_count": 15,
     "metadata": {},
     "output_type": "execute_result"
    }
   ],
   "source": [
    "vr_transform"
   ]
  },
  {
   "cell_type": "markdown",
   "metadata": {},
   "source": [
    "## Morgan Fingerprint representation\n",
    "\n",
    "In general a fingerprint is when a 'large' amount of data is compressed into a bit representation. This is done using a mapping between molecules and the bit representation. The map in of itself provides hashings of structural information about the molecule. Some details can be found in https://towardsdatascience.com/a-practical-introduction-to-the-use-of-molecular-fingerprints-in-drug-discovery-7f15021be2b1. Luckily, there is the RdChem library which adequetly offers a simple way to obtain these fingerprints. Code has been written to wrap around this call. Note, that unlike the previous representation there is not real notion of 'fitting' since the mappings are based on the smile itself as opposed to the data seen before. However, the call to perform that transformation is labelled 'transform' as opposed to 'fit' to distinguish this difference."
   ]
  },
  {
   "cell_type": "code",
   "execution_count": 16,
   "metadata": {},
   "outputs": [],
   "source": [
    "mfp = pp.MorganFingerprints(smiles[:5])\n",
    "mfp_mat = mfp.transform()"
   ]
  },
  {
   "cell_type": "code",
   "execution_count": 17,
   "metadata": {},
   "outputs": [
    {
     "data": {
      "text/plain": [
       "array([[0, 0, 0, ..., 0, 0, 0],\n",
       "       [0, 0, 0, ..., 0, 0, 0],\n",
       "       [0, 1, 0, ..., 1, 0, 0],\n",
       "       [0, 0, 0, ..., 0, 0, 0],\n",
       "       [0, 1, 0, ..., 0, 0, 0]])"
      ]
     },
     "execution_count": 17,
     "metadata": {},
     "output_type": "execute_result"
    }
   ],
   "source": [
    "mfp_mat"
   ]
  },
  {
   "cell_type": "code",
   "execution_count": 18,
   "metadata": {},
   "outputs": [
    {
     "data": {
      "text/plain": [
       "(5, 2048)"
      ]
     },
     "execution_count": 18,
     "metadata": {},
     "output_type": "execute_result"
    }
   ],
   "source": [
    "mfp_mat.shape"
   ]
  },
  {
   "cell_type": "markdown",
   "metadata": {},
   "source": [
    "## Murcko Scaffolds and known toxicophore\n",
    "\n",
    "The murcko scaffolds are a way to reduce a complicated molecule to some core part of the molecure. According to the explanation provided in https://datagrok.ai/help/domains/chem/functions/murcko-scaffolds. This is common in medicinal chemistry and offers first basis for a systematic study for the a set of molecules. \n",
    "\n",
    "As with the fingerprint mapping, this is a mapping that can be applied from a smile to another smile."
   ]
  },
  {
   "cell_type": "code",
   "execution_count": 28,
   "metadata": {},
   "outputs": [],
   "source": [
    "ms = pp.MurckoScaffold(smiles[:5])\n",
    "ms_smiles = ms.transform()"
   ]
  },
  {
   "cell_type": "markdown",
   "metadata": {},
   "source": [
    "The rdchem library can be used to show what the scaffold of the molecules look like."
   ]
  },
  {
   "cell_type": "code",
   "execution_count": 29,
   "metadata": {},
   "outputs": [],
   "source": [
    "from rdkit import Chem\n",
    "\n",
    "mol_list = []\n",
    "for i in range(0,2):\n",
    "    mol_list.append(Chem.MolFromSmiles(smiles[i]))\n",
    "    mol_list.append(Chem.MolFromSmiles(ms_smiles[i]))"
   ]
  },
  {
   "cell_type": "code",
   "execution_count": 30,
   "metadata": {
    "scrolled": false
   },
   "outputs": [
    {
     "data": {
      "image/svg+xml": [
       "<svg baseProfile=\"full\" height=\"1000px\" version=\"1.1\" viewBox=\"0 0 600 1000\" width=\"600px\" xml:space=\"preserve\" xmlns=\"http://www.w3.org/2000/svg\" xmlns:rdkit=\"http://www.rdkit.org/xml\" xmlns:xlink=\"http://www.w3.org/1999/xlink\">\n",
       "<!-- END OF HEADER -->\n",
       "<rect height=\"1000\" style=\"opacity:1.0;fill:#FFFFFF;stroke:none\" width=\"600\" x=\"0\" y=\"0\"> </rect>\n",
       "<rect height=\"1000\" style=\"opacity:1.0;fill:#FFFFFF;stroke:none\" width=\"600\" x=\"0\" y=\"0\"> </rect>\n",
       "<rect height=\"1000\" style=\"opacity:1.0;fill:#FFFFFF;stroke:none\" width=\"600\" x=\"0\" y=\"0\"> </rect>\n",
       "<rect height=\"1000\" style=\"opacity:1.0;fill:#FFFFFF;stroke:none\" width=\"600\" x=\"0\" y=\"0\"> </rect>\n",
       "<rect height=\"1000\" style=\"opacity:1.0;fill:#FFFFFF;stroke:none\" width=\"600\" x=\"0\" y=\"0\"> </rect>\n",
       "<path class=\"bond-0\" d=\"M 147.575,333.84 L 147.575,319.991\" style=\"fill:none;fill-rule:evenodd;stroke:#000000;stroke-width:2px;stroke-linecap:butt;stroke-linejoin:miter;stroke-opacity:1\"/>\n",
       "<path class=\"bond-0\" d=\"M 147.575,319.991 L 147.575,306.142\" style=\"fill:none;fill-rule:evenodd;stroke:#0000FF;stroke-width:2px;stroke-linecap:butt;stroke-linejoin:miter;stroke-opacity:1\"/>\n",
       "<path class=\"bond-1\" d=\"M 154.455,295.951 L 165.701,289.459\" style=\"fill:none;fill-rule:evenodd;stroke:#0000FF;stroke-width:2px;stroke-linecap:butt;stroke-linejoin:miter;stroke-opacity:1\"/>\n",
       "<path class=\"bond-1\" d=\"M 165.701,289.459 L 176.947,282.966\" style=\"fill:none;fill-rule:evenodd;stroke:#000000;stroke-width:2px;stroke-linecap:butt;stroke-linejoin:miter;stroke-opacity:1\"/>\n",
       "<path class=\"bond-1\" d=\"M 154.438,288.129 L 162.309,283.584\" style=\"fill:none;fill-rule:evenodd;stroke:#0000FF;stroke-width:2px;stroke-linecap:butt;stroke-linejoin:miter;stroke-opacity:1\"/>\n",
       "<path class=\"bond-1\" d=\"M 162.309,283.584 L 170.181,279.039\" style=\"fill:none;fill-rule:evenodd;stroke:#000000;stroke-width:2px;stroke-linecap:butt;stroke-linejoin:miter;stroke-opacity:1\"/>\n",
       "<path class=\"bond-31\" d=\"M 140.694,295.951 L 129.448,289.459\" style=\"fill:none;fill-rule:evenodd;stroke:#0000FF;stroke-width:2px;stroke-linecap:butt;stroke-linejoin:miter;stroke-opacity:1\"/>\n",
       "<path class=\"bond-31\" d=\"M 129.448,289.459 L 118.203,282.966\" style=\"fill:none;fill-rule:evenodd;stroke:#000000;stroke-width:2px;stroke-linecap:butt;stroke-linejoin:miter;stroke-opacity:1\"/>\n",
       "<path class=\"bond-2\" d=\"M 176.947,282.966 L 206.319,299.924\" style=\"fill:none;fill-rule:evenodd;stroke:#000000;stroke-width:2px;stroke-linecap:butt;stroke-linejoin:miter;stroke-opacity:1\"/>\n",
       "<path class=\"bond-33\" d=\"M 176.947,282.966 L 176.947,249.05\" style=\"fill:none;fill-rule:evenodd;stroke:#000000;stroke-width:2px;stroke-linecap:butt;stroke-linejoin:miter;stroke-opacity:1\"/>\n",
       "<path class=\"bond-3\" d=\"M 206.319,299.924 L 235.691,282.966\" style=\"fill:none;fill-rule:evenodd;stroke:#000000;stroke-width:2px;stroke-linecap:butt;stroke-linejoin:miter;stroke-opacity:1\"/>\n",
       "<path class=\"bond-3\" d=\"M 207.333,291.506 L 227.893,279.635\" style=\"fill:none;fill-rule:evenodd;stroke:#000000;stroke-width:2px;stroke-linecap:butt;stroke-linejoin:miter;stroke-opacity:1\"/>\n",
       "<path class=\"bond-4\" d=\"M 235.691,282.966 L 247.927,290.031\" style=\"fill:none;fill-rule:evenodd;stroke:#000000;stroke-width:2px;stroke-linecap:butt;stroke-linejoin:miter;stroke-opacity:1\"/>\n",
       "<path class=\"bond-4\" d=\"M 247.927,290.031 L 260.163,297.095\" style=\"fill:none;fill-rule:evenodd;stroke:#0000FF;stroke-width:2px;stroke-linecap:butt;stroke-linejoin:miter;stroke-opacity:1\"/>\n",
       "<path class=\"bond-5\" d=\"M 235.691,282.966 L 235.691,249.05\" style=\"fill:none;fill-rule:evenodd;stroke:#000000;stroke-width:2px;stroke-linecap:butt;stroke-linejoin:miter;stroke-opacity:1\"/>\n",
       "<path class=\"bond-6\" d=\"M 235.691,249.05 L 206.319,232.092\" style=\"fill:none;fill-rule:evenodd;stroke:#000000;stroke-width:2px;stroke-linecap:butt;stroke-linejoin:miter;stroke-opacity:1\"/>\n",
       "<path class=\"bond-6\" d=\"M 227.893,252.381 L 207.333,240.51\" style=\"fill:none;fill-rule:evenodd;stroke:#000000;stroke-width:2px;stroke-linecap:butt;stroke-linejoin:miter;stroke-opacity:1\"/>\n",
       "<path class=\"bond-7\" d=\"M 206.319,232.092 L 176.947,249.05\" style=\"fill:none;fill-rule:evenodd;stroke:#000000;stroke-width:2px;stroke-linecap:butt;stroke-linejoin:miter;stroke-opacity:1\"/>\n",
       "<path class=\"bond-8\" d=\"M 176.947,249.05 L 147.575,232.092\" style=\"fill:none;fill-rule:evenodd;stroke:#000000;stroke-width:2px;stroke-linecap:butt;stroke-linejoin:miter;stroke-opacity:1\"/>\n",
       "<path class=\"bond-8\" d=\"M 169.149,252.381 L 148.589,240.51\" style=\"fill:none;fill-rule:evenodd;stroke:#000000;stroke-width:2px;stroke-linecap:butt;stroke-linejoin:miter;stroke-opacity:1\"/>\n",
       "<path class=\"bond-9\" d=\"M 147.575,232.092 L 118.203,249.05\" style=\"fill:none;fill-rule:evenodd;stroke:#000000;stroke-width:2px;stroke-linecap:butt;stroke-linejoin:miter;stroke-opacity:1\"/>\n",
       "<path class=\"bond-10\" d=\"M 118.203,249.05 L 88.8305,232.092\" style=\"fill:none;fill-rule:evenodd;stroke:#000000;stroke-width:2px;stroke-linecap:butt;stroke-linejoin:miter;stroke-opacity:1\"/>\n",
       "<path class=\"bond-10\" d=\"M 110.405,252.381 L 89.8447,240.51\" style=\"fill:none;fill-rule:evenodd;stroke:#000000;stroke-width:2px;stroke-linecap:butt;stroke-linejoin:miter;stroke-opacity:1\"/>\n",
       "<path class=\"bond-34\" d=\"M 118.203,249.05 L 118.203,282.966\" style=\"fill:none;fill-rule:evenodd;stroke:#000000;stroke-width:2px;stroke-linecap:butt;stroke-linejoin:miter;stroke-opacity:1\"/>\n",
       "<path class=\"bond-11\" d=\"M 88.8305,232.092 L 59.4584,249.05\" style=\"fill:none;fill-rule:evenodd;stroke:#000000;stroke-width:2px;stroke-linecap:butt;stroke-linejoin:miter;stroke-opacity:1\"/>\n",
       "<path class=\"bond-12\" d=\"M 59.4584,249.05 L 59.4584,282.966\" style=\"fill:none;fill-rule:evenodd;stroke:#000000;stroke-width:2px;stroke-linecap:butt;stroke-linejoin:miter;stroke-opacity:1\"/>\n",
       "<path class=\"bond-12\" d=\"M 66.2416,254.137 L 66.2416,277.879\" style=\"fill:none;fill-rule:evenodd;stroke:#000000;stroke-width:2px;stroke-linecap:butt;stroke-linejoin:miter;stroke-opacity:1\"/>\n",
       "<path class=\"bond-13\" d=\"M 59.4584,282.966 L 48.1653,289.486\" style=\"fill:none;fill-rule:evenodd;stroke:#000000;stroke-width:2px;stroke-linecap:butt;stroke-linejoin:miter;stroke-opacity:1\"/>\n",
       "<path class=\"bond-13\" d=\"M 48.1653,289.486 L 36.8723,296.006\" style=\"fill:none;fill-rule:evenodd;stroke:#0000FF;stroke-width:2px;stroke-linecap:butt;stroke-linejoin:miter;stroke-opacity:1\"/>\n",
       "<path class=\"bond-14\" d=\"M 59.4584,282.966 L 88.8305,299.924\" style=\"fill:none;fill-rule:evenodd;stroke:#000000;stroke-width:2px;stroke-linecap:butt;stroke-linejoin:miter;stroke-opacity:1\"/>\n",
       "<path class=\"bond-15\" d=\"M 88.8305,299.924 L 118.203,282.966\" style=\"fill:none;fill-rule:evenodd;stroke:#000000;stroke-width:2px;stroke-linecap:butt;stroke-linejoin:miter;stroke-opacity:1\"/>\n",
       "<path class=\"bond-15\" d=\"M 89.8447,291.506 L 110.405,279.635\" style=\"fill:none;fill-rule:evenodd;stroke:#000000;stroke-width:2px;stroke-linecap:butt;stroke-linejoin:miter;stroke-opacity:1\"/>\n",
       "<path class=\"bond-16\" d=\"M 36.8723,205.564 L 48.1653,199.044\" style=\"fill:none;fill-rule:evenodd;stroke:#0000FF;stroke-width:2px;stroke-linecap:butt;stroke-linejoin:miter;stroke-opacity:1\"/>\n",
       "<path class=\"bond-16\" d=\"M 48.1653,199.044 L 59.4584,192.523\" style=\"fill:none;fill-rule:evenodd;stroke:#000000;stroke-width:2px;stroke-linecap:butt;stroke-linejoin:miter;stroke-opacity:1\"/>\n",
       "<path class=\"bond-17\" d=\"M 59.4584,192.523 L 59.4584,158.608\" style=\"fill:none;fill-rule:evenodd;stroke:#000000;stroke-width:2px;stroke-linecap:butt;stroke-linejoin:miter;stroke-opacity:1\"/>\n",
       "<path class=\"bond-17\" d=\"M 66.2416,187.436 L 66.2416,163.695\" style=\"fill:none;fill-rule:evenodd;stroke:#000000;stroke-width:2px;stroke-linecap:butt;stroke-linejoin:miter;stroke-opacity:1\"/>\n",
       "<path class=\"bond-32\" d=\"M 59.4584,192.523 L 88.8305,209.481\" style=\"fill:none;fill-rule:evenodd;stroke:#000000;stroke-width:2px;stroke-linecap:butt;stroke-linejoin:miter;stroke-opacity:1\"/>\n",
       "<path class=\"bond-18\" d=\"M 59.4584,158.608 L 88.8305,141.65\" style=\"fill:none;fill-rule:evenodd;stroke:#000000;stroke-width:2px;stroke-linecap:butt;stroke-linejoin:miter;stroke-opacity:1\"/>\n",
       "<path class=\"bond-19\" d=\"M 88.8305,141.65 L 118.203,158.608\" style=\"fill:none;fill-rule:evenodd;stroke:#000000;stroke-width:2px;stroke-linecap:butt;stroke-linejoin:miter;stroke-opacity:1\"/>\n",
       "<path class=\"bond-19\" d=\"M 89.8447,150.068 L 110.405,161.938\" style=\"fill:none;fill-rule:evenodd;stroke:#000000;stroke-width:2px;stroke-linecap:butt;stroke-linejoin:miter;stroke-opacity:1\"/>\n",
       "<path class=\"bond-20\" d=\"M 118.203,158.608 L 147.575,141.65\" style=\"fill:none;fill-rule:evenodd;stroke:#000000;stroke-width:2px;stroke-linecap:butt;stroke-linejoin:miter;stroke-opacity:1\"/>\n",
       "<path class=\"bond-35\" d=\"M 118.203,158.608 L 118.203,192.523\" style=\"fill:none;fill-rule:evenodd;stroke:#000000;stroke-width:2px;stroke-linecap:butt;stroke-linejoin:miter;stroke-opacity:1\"/>\n",
       "<path class=\"bond-21\" d=\"M 147.575,141.65 L 176.947,158.608\" style=\"fill:none;fill-rule:evenodd;stroke:#000000;stroke-width:2px;stroke-linecap:butt;stroke-linejoin:miter;stroke-opacity:1\"/>\n",
       "<path class=\"bond-21\" d=\"M 148.589,150.068 L 169.149,161.938\" style=\"fill:none;fill-rule:evenodd;stroke:#000000;stroke-width:2px;stroke-linecap:butt;stroke-linejoin:miter;stroke-opacity:1\"/>\n",
       "<path class=\"bond-22\" d=\"M 176.947,158.608 L 206.319,141.65\" style=\"fill:none;fill-rule:evenodd;stroke:#000000;stroke-width:2px;stroke-linecap:butt;stroke-linejoin:miter;stroke-opacity:1\"/>\n",
       "<path class=\"bond-36\" d=\"M 176.947,158.608 L 176.947,192.523\" style=\"fill:none;fill-rule:evenodd;stroke:#000000;stroke-width:2px;stroke-linecap:butt;stroke-linejoin:miter;stroke-opacity:1\"/>\n",
       "<path class=\"bond-23\" d=\"M 206.319,141.65 L 235.691,158.608\" style=\"fill:none;fill-rule:evenodd;stroke:#000000;stroke-width:2px;stroke-linecap:butt;stroke-linejoin:miter;stroke-opacity:1\"/>\n",
       "<path class=\"bond-23\" d=\"M 207.333,150.068 L 227.893,161.938\" style=\"fill:none;fill-rule:evenodd;stroke:#000000;stroke-width:2px;stroke-linecap:butt;stroke-linejoin:miter;stroke-opacity:1\"/>\n",
       "<path class=\"bond-24\" d=\"M 235.691,158.608 L 235.691,192.523\" style=\"fill:none;fill-rule:evenodd;stroke:#000000;stroke-width:2px;stroke-linecap:butt;stroke-linejoin:miter;stroke-opacity:1\"/>\n",
       "<path class=\"bond-25\" d=\"M 235.691,192.523 L 247.927,199.588\" style=\"fill:none;fill-rule:evenodd;stroke:#000000;stroke-width:2px;stroke-linecap:butt;stroke-linejoin:miter;stroke-opacity:1\"/>\n",
       "<path class=\"bond-25\" d=\"M 247.927,199.588 L 260.163,206.653\" style=\"fill:none;fill-rule:evenodd;stroke:#0000FF;stroke-width:2px;stroke-linecap:butt;stroke-linejoin:miter;stroke-opacity:1\"/>\n",
       "<path class=\"bond-26\" d=\"M 235.691,192.523 L 206.319,209.481\" style=\"fill:none;fill-rule:evenodd;stroke:#000000;stroke-width:2px;stroke-linecap:butt;stroke-linejoin:miter;stroke-opacity:1\"/>\n",
       "<path class=\"bond-26\" d=\"M 227.893,189.193 L 207.333,201.063\" style=\"fill:none;fill-rule:evenodd;stroke:#000000;stroke-width:2px;stroke-linecap:butt;stroke-linejoin:miter;stroke-opacity:1\"/>\n",
       "<path class=\"bond-27\" d=\"M 206.319,209.481 L 176.947,192.523\" style=\"fill:none;fill-rule:evenodd;stroke:#000000;stroke-width:2px;stroke-linecap:butt;stroke-linejoin:miter;stroke-opacity:1\"/>\n",
       "<path class=\"bond-28\" d=\"M 176.947,192.523 L 164.71,199.588\" style=\"fill:none;fill-rule:evenodd;stroke:#000000;stroke-width:2px;stroke-linecap:butt;stroke-linejoin:miter;stroke-opacity:1\"/>\n",
       "<path class=\"bond-28\" d=\"M 164.71,199.588 L 152.474,206.653\" style=\"fill:none;fill-rule:evenodd;stroke:#0000FF;stroke-width:2px;stroke-linecap:butt;stroke-linejoin:miter;stroke-opacity:1\"/>\n",
       "<path class=\"bond-28\" d=\"M 169.884,188.768 L 161.319,193.714\" style=\"fill:none;fill-rule:evenodd;stroke:#000000;stroke-width:2px;stroke-linecap:butt;stroke-linejoin:miter;stroke-opacity:1\"/>\n",
       "<path class=\"bond-28\" d=\"M 161.319,193.714 L 152.753,198.659\" style=\"fill:none;fill-rule:evenodd;stroke:#0000FF;stroke-width:2px;stroke-linecap:butt;stroke-linejoin:miter;stroke-opacity:1\"/>\n",
       "<path class=\"bond-29\" d=\"M 142.675,206.653 L 130.439,199.588\" style=\"fill:none;fill-rule:evenodd;stroke:#0000FF;stroke-width:2px;stroke-linecap:butt;stroke-linejoin:miter;stroke-opacity:1\"/>\n",
       "<path class=\"bond-29\" d=\"M 130.439,199.588 L 118.203,192.523\" style=\"fill:none;fill-rule:evenodd;stroke:#000000;stroke-width:2px;stroke-linecap:butt;stroke-linejoin:miter;stroke-opacity:1\"/>\n",
       "<path class=\"bond-30\" d=\"M 118.203,192.523 L 88.8305,209.481\" style=\"fill:none;fill-rule:evenodd;stroke:#000000;stroke-width:2px;stroke-linecap:butt;stroke-linejoin:miter;stroke-opacity:1\"/>\n",
       "<path class=\"bond-30\" d=\"M 110.405,189.193 L 89.8447,201.063\" style=\"fill:none;fill-rule:evenodd;stroke:#000000;stroke-width:2px;stroke-linecap:butt;stroke-linejoin:miter;stroke-opacity:1\"/>\n",
       "<text dominant-baseline=\"central\" style=\"font-size:11px;font-style:normal;font-weight:normal;fill-opacity:1;stroke:none;font-family:sans-serif;fill:#0000FF\" text-anchor=\"middle\" x=\"147.575\" y=\"301.789\"><tspan>N</tspan><tspan style=\"baseline-shift:super;font-size:8.25px;\">+</tspan><tspan/></text>\n",
       "<text dominant-baseline=\"central\" style=\"font-size:11px;font-style:normal;font-weight:normal;fill-opacity:1;stroke:none;font-family:sans-serif;fill:#0000FF\" text-anchor=\"start\" x=\"261.407\" y=\"301.789\"><tspan>NH</tspan><tspan style=\"baseline-shift:sub;font-size:8.25px;\">2</tspan><tspan/></text>\n",
       "<text dominant-baseline=\"central\" style=\"font-size:11px;font-style:normal;font-weight:normal;fill-opacity:1;stroke:none;font-family:sans-serif;fill:#0000FF\" text-anchor=\"end\" x=\"33.7422\" y=\"301.789\"><tspan>H</tspan><tspan style=\"baseline-shift:sub;font-size:8.25px;\">2</tspan><tspan>N</tspan></text>\n",
       "<text dominant-baseline=\"central\" style=\"font-size:11px;font-style:normal;font-weight:normal;fill-opacity:1;stroke:none;font-family:sans-serif;fill:#0000FF\" text-anchor=\"end\" x=\"33.7422\" y=\"211.347\"><tspan>H</tspan><tspan style=\"baseline-shift:sub;font-size:8.25px;\">2</tspan><tspan>N</tspan></text>\n",
       "<text dominant-baseline=\"central\" style=\"font-size:11px;font-style:normal;font-weight:normal;fill-opacity:1;stroke:none;font-family:sans-serif;fill:#0000FF\" text-anchor=\"start\" x=\"261.407\" y=\"211.347\"><tspan>NH</tspan><tspan style=\"baseline-shift:sub;font-size:8.25px;\">2</tspan><tspan/></text>\n",
       "<text dominant-baseline=\"central\" style=\"font-size:11px;font-style:normal;font-weight:normal;fill-opacity:1;stroke:none;font-family:sans-serif;fill:#0000FF\" text-anchor=\"middle\" x=\"147.575\" y=\"211.177\"><tspan>N</tspan></text>\n",
       "<text dominant-baseline=\"central\" style=\"font-size:11px;font-style:normal;font-weight:normal;fill-opacity:1;stroke:none;font-family:sans-serif;fill:#00CC00\" text-anchor=\"end\" x=\"153.867\" y=\"120.904\"><tspan>Cl</tspan><tspan style=\"baseline-shift:super;font-size:8.25px;\">-</tspan><tspan/></text>\n",
       "<path class=\"bond-0\" d=\"M 359.458,290.946 L 359.458,257.03\" style=\"fill:none;fill-rule:evenodd;stroke:#000000;stroke-width:2px;stroke-linecap:butt;stroke-linejoin:miter;stroke-opacity:1\"/>\n",
       "<path class=\"bond-0\" d=\"M 366.242,285.859 L 366.242,262.118\" style=\"fill:none;fill-rule:evenodd;stroke:#000000;stroke-width:2px;stroke-linecap:butt;stroke-linejoin:miter;stroke-opacity:1\"/>\n",
       "<path class=\"bond-26\" d=\"M 359.458,290.946 L 388.83,307.904\" style=\"fill:none;fill-rule:evenodd;stroke:#000000;stroke-width:2px;stroke-linecap:butt;stroke-linejoin:miter;stroke-opacity:1\"/>\n",
       "<path class=\"bond-1\" d=\"M 359.458,257.03 L 388.83,240.072\" style=\"fill:none;fill-rule:evenodd;stroke:#000000;stroke-width:2px;stroke-linecap:butt;stroke-linejoin:miter;stroke-opacity:1\"/>\n",
       "<path class=\"bond-2\" d=\"M 388.83,240.072 L 418.203,257.03\" style=\"fill:none;fill-rule:evenodd;stroke:#000000;stroke-width:2px;stroke-linecap:butt;stroke-linejoin:miter;stroke-opacity:1\"/>\n",
       "<path class=\"bond-2\" d=\"M 389.845,248.49 L 410.405,260.361\" style=\"fill:none;fill-rule:evenodd;stroke:#000000;stroke-width:2px;stroke-linecap:butt;stroke-linejoin:miter;stroke-opacity:1\"/>\n",
       "<path class=\"bond-3\" d=\"M 418.203,257.03 L 429.448,250.538\" style=\"fill:none;fill-rule:evenodd;stroke:#000000;stroke-width:2px;stroke-linecap:butt;stroke-linejoin:miter;stroke-opacity:1\"/>\n",
       "<path class=\"bond-3\" d=\"M 429.448,250.538 L 440.694,244.045\" style=\"fill:none;fill-rule:evenodd;stroke:#0000FF;stroke-width:2px;stroke-linecap:butt;stroke-linejoin:miter;stroke-opacity:1\"/>\n",
       "<path class=\"bond-28\" d=\"M 418.203,257.03 L 418.203,290.946\" style=\"fill:none;fill-rule:evenodd;stroke:#000000;stroke-width:2px;stroke-linecap:butt;stroke-linejoin:miter;stroke-opacity:1\"/>\n",
       "<path class=\"bond-4\" d=\"M 454.455,244.045 L 465.701,250.538\" style=\"fill:none;fill-rule:evenodd;stroke:#0000FF;stroke-width:2px;stroke-linecap:butt;stroke-linejoin:miter;stroke-opacity:1\"/>\n",
       "<path class=\"bond-4\" d=\"M 465.701,250.538 L 476.947,257.03\" style=\"fill:none;fill-rule:evenodd;stroke:#000000;stroke-width:2px;stroke-linecap:butt;stroke-linejoin:miter;stroke-opacity:1\"/>\n",
       "<path class=\"bond-4\" d=\"M 454.438,251.867 L 462.309,256.412\" style=\"fill:none;fill-rule:evenodd;stroke:#0000FF;stroke-width:2px;stroke-linecap:butt;stroke-linejoin:miter;stroke-opacity:1\"/>\n",
       "<path class=\"bond-4\" d=\"M 462.309,256.412 L 470.181,260.957\" style=\"fill:none;fill-rule:evenodd;stroke:#000000;stroke-width:2px;stroke-linecap:butt;stroke-linejoin:miter;stroke-opacity:1\"/>\n",
       "<path class=\"bond-5\" d=\"M 476.947,257.03 L 506.319,240.072\" style=\"fill:none;fill-rule:evenodd;stroke:#000000;stroke-width:2px;stroke-linecap:butt;stroke-linejoin:miter;stroke-opacity:1\"/>\n",
       "<path class=\"bond-30\" d=\"M 476.947,257.03 L 476.947,290.946\" style=\"fill:none;fill-rule:evenodd;stroke:#000000;stroke-width:2px;stroke-linecap:butt;stroke-linejoin:miter;stroke-opacity:1\"/>\n",
       "<path class=\"bond-6\" d=\"M 506.319,240.072 L 535.691,257.03\" style=\"fill:none;fill-rule:evenodd;stroke:#000000;stroke-width:2px;stroke-linecap:butt;stroke-linejoin:miter;stroke-opacity:1\"/>\n",
       "<path class=\"bond-6\" d=\"M 507.333,248.49 L 527.893,260.361\" style=\"fill:none;fill-rule:evenodd;stroke:#000000;stroke-width:2px;stroke-linecap:butt;stroke-linejoin:miter;stroke-opacity:1\"/>\n",
       "<path class=\"bond-7\" d=\"M 535.691,257.03 L 535.691,290.946\" style=\"fill:none;fill-rule:evenodd;stroke:#000000;stroke-width:2px;stroke-linecap:butt;stroke-linejoin:miter;stroke-opacity:1\"/>\n",
       "<path class=\"bond-8\" d=\"M 535.691,290.946 L 506.319,307.904\" style=\"fill:none;fill-rule:evenodd;stroke:#000000;stroke-width:2px;stroke-linecap:butt;stroke-linejoin:miter;stroke-opacity:1\"/>\n",
       "<path class=\"bond-8\" d=\"M 527.893,287.615 L 507.333,299.486\" style=\"fill:none;fill-rule:evenodd;stroke:#000000;stroke-width:2px;stroke-linecap:butt;stroke-linejoin:miter;stroke-opacity:1\"/>\n",
       "<path class=\"bond-9\" d=\"M 506.319,307.904 L 476.947,290.946\" style=\"fill:none;fill-rule:evenodd;stroke:#000000;stroke-width:2px;stroke-linecap:butt;stroke-linejoin:miter;stroke-opacity:1\"/>\n",
       "<path class=\"bond-10\" d=\"M 476.947,290.946 L 447.575,307.904\" style=\"fill:none;fill-rule:evenodd;stroke:#000000;stroke-width:2px;stroke-linecap:butt;stroke-linejoin:miter;stroke-opacity:1\"/>\n",
       "<path class=\"bond-10\" d=\"M 469.149,287.615 L 448.589,299.486\" style=\"fill:none;fill-rule:evenodd;stroke:#000000;stroke-width:2px;stroke-linecap:butt;stroke-linejoin:miter;stroke-opacity:1\"/>\n",
       "<path class=\"bond-11\" d=\"M 447.575,307.904 L 418.203,290.946\" style=\"fill:none;fill-rule:evenodd;stroke:#000000;stroke-width:2px;stroke-linecap:butt;stroke-linejoin:miter;stroke-opacity:1\"/>\n",
       "<path class=\"bond-12\" d=\"M 418.203,290.946 L 388.83,307.904\" style=\"fill:none;fill-rule:evenodd;stroke:#000000;stroke-width:2px;stroke-linecap:butt;stroke-linejoin:miter;stroke-opacity:1\"/>\n",
       "<path class=\"bond-12\" d=\"M 410.405,287.615 L 389.845,299.486\" style=\"fill:none;fill-rule:evenodd;stroke:#000000;stroke-width:2px;stroke-linecap:butt;stroke-linejoin:miter;stroke-opacity:1\"/>\n",
       "<path class=\"bond-13\" d=\"M 359.458,200.504 L 359.458,166.588\" style=\"fill:none;fill-rule:evenodd;stroke:#000000;stroke-width:2px;stroke-linecap:butt;stroke-linejoin:miter;stroke-opacity:1\"/>\n",
       "<path class=\"bond-13\" d=\"M 366.242,195.416 L 366.242,171.675\" style=\"fill:none;fill-rule:evenodd;stroke:#000000;stroke-width:2px;stroke-linecap:butt;stroke-linejoin:miter;stroke-opacity:1\"/>\n",
       "<path class=\"bond-27\" d=\"M 359.458,200.504 L 388.83,217.462\" style=\"fill:none;fill-rule:evenodd;stroke:#000000;stroke-width:2px;stroke-linecap:butt;stroke-linejoin:miter;stroke-opacity:1\"/>\n",
       "<path class=\"bond-14\" d=\"M 359.458,166.588 L 388.83,149.63\" style=\"fill:none;fill-rule:evenodd;stroke:#000000;stroke-width:2px;stroke-linecap:butt;stroke-linejoin:miter;stroke-opacity:1\"/>\n",
       "<path class=\"bond-15\" d=\"M 388.83,149.63 L 418.203,166.588\" style=\"fill:none;fill-rule:evenodd;stroke:#000000;stroke-width:2px;stroke-linecap:butt;stroke-linejoin:miter;stroke-opacity:1\"/>\n",
       "<path class=\"bond-15\" d=\"M 389.845,158.048 L 410.405,169.918\" style=\"fill:none;fill-rule:evenodd;stroke:#000000;stroke-width:2px;stroke-linecap:butt;stroke-linejoin:miter;stroke-opacity:1\"/>\n",
       "<path class=\"bond-16\" d=\"M 418.203,166.588 L 430.439,159.523\" style=\"fill:none;fill-rule:evenodd;stroke:#000000;stroke-width:2px;stroke-linecap:butt;stroke-linejoin:miter;stroke-opacity:1\"/>\n",
       "<path class=\"bond-16\" d=\"M 430.439,159.523 L 442.675,152.458\" style=\"fill:none;fill-rule:evenodd;stroke:#0000FF;stroke-width:2px;stroke-linecap:butt;stroke-linejoin:miter;stroke-opacity:1\"/>\n",
       "<path class=\"bond-29\" d=\"M 418.203,166.588 L 418.203,200.504\" style=\"fill:none;fill-rule:evenodd;stroke:#000000;stroke-width:2px;stroke-linecap:butt;stroke-linejoin:miter;stroke-opacity:1\"/>\n",
       "<path class=\"bond-17\" d=\"M 452.474,152.458 L 464.71,159.523\" style=\"fill:none;fill-rule:evenodd;stroke:#0000FF;stroke-width:2px;stroke-linecap:butt;stroke-linejoin:miter;stroke-opacity:1\"/>\n",
       "<path class=\"bond-17\" d=\"M 464.71,159.523 L 476.947,166.588\" style=\"fill:none;fill-rule:evenodd;stroke:#000000;stroke-width:2px;stroke-linecap:butt;stroke-linejoin:miter;stroke-opacity:1\"/>\n",
       "<path class=\"bond-17\" d=\"M 452.753,160.452 L 461.319,165.398\" style=\"fill:none;fill-rule:evenodd;stroke:#0000FF;stroke-width:2px;stroke-linecap:butt;stroke-linejoin:miter;stroke-opacity:1\"/>\n",
       "<path class=\"bond-17\" d=\"M 461.319,165.398 L 469.884,170.343\" style=\"fill:none;fill-rule:evenodd;stroke:#000000;stroke-width:2px;stroke-linecap:butt;stroke-linejoin:miter;stroke-opacity:1\"/>\n",
       "<path class=\"bond-18\" d=\"M 476.947,166.588 L 506.319,149.63\" style=\"fill:none;fill-rule:evenodd;stroke:#000000;stroke-width:2px;stroke-linecap:butt;stroke-linejoin:miter;stroke-opacity:1\"/>\n",
       "<path class=\"bond-31\" d=\"M 476.947,166.588 L 476.947,200.504\" style=\"fill:none;fill-rule:evenodd;stroke:#000000;stroke-width:2px;stroke-linecap:butt;stroke-linejoin:miter;stroke-opacity:1\"/>\n",
       "<path class=\"bond-19\" d=\"M 506.319,149.63 L 535.691,166.588\" style=\"fill:none;fill-rule:evenodd;stroke:#000000;stroke-width:2px;stroke-linecap:butt;stroke-linejoin:miter;stroke-opacity:1\"/>\n",
       "<path class=\"bond-19\" d=\"M 507.333,158.048 L 527.893,169.918\" style=\"fill:none;fill-rule:evenodd;stroke:#000000;stroke-width:2px;stroke-linecap:butt;stroke-linejoin:miter;stroke-opacity:1\"/>\n",
       "<path class=\"bond-20\" d=\"M 535.691,166.588 L 535.691,200.504\" style=\"fill:none;fill-rule:evenodd;stroke:#000000;stroke-width:2px;stroke-linecap:butt;stroke-linejoin:miter;stroke-opacity:1\"/>\n",
       "<path class=\"bond-21\" d=\"M 535.691,200.504 L 506.319,217.462\" style=\"fill:none;fill-rule:evenodd;stroke:#000000;stroke-width:2px;stroke-linecap:butt;stroke-linejoin:miter;stroke-opacity:1\"/>\n",
       "<path class=\"bond-21\" d=\"M 527.893,197.173 L 507.333,209.044\" style=\"fill:none;fill-rule:evenodd;stroke:#000000;stroke-width:2px;stroke-linecap:butt;stroke-linejoin:miter;stroke-opacity:1\"/>\n",
       "<path class=\"bond-22\" d=\"M 506.319,217.462 L 476.947,200.504\" style=\"fill:none;fill-rule:evenodd;stroke:#000000;stroke-width:2px;stroke-linecap:butt;stroke-linejoin:miter;stroke-opacity:1\"/>\n",
       "<path class=\"bond-23\" d=\"M 476.947,200.504 L 447.575,217.462\" style=\"fill:none;fill-rule:evenodd;stroke:#000000;stroke-width:2px;stroke-linecap:butt;stroke-linejoin:miter;stroke-opacity:1\"/>\n",
       "<path class=\"bond-23\" d=\"M 469.149,197.173 L 448.589,209.044\" style=\"fill:none;fill-rule:evenodd;stroke:#000000;stroke-width:2px;stroke-linecap:butt;stroke-linejoin:miter;stroke-opacity:1\"/>\n",
       "<path class=\"bond-24\" d=\"M 447.575,217.462 L 418.203,200.504\" style=\"fill:none;fill-rule:evenodd;stroke:#000000;stroke-width:2px;stroke-linecap:butt;stroke-linejoin:miter;stroke-opacity:1\"/>\n",
       "<path class=\"bond-25\" d=\"M 418.203,200.504 L 388.83,217.462\" style=\"fill:none;fill-rule:evenodd;stroke:#000000;stroke-width:2px;stroke-linecap:butt;stroke-linejoin:miter;stroke-opacity:1\"/>\n",
       "<path class=\"bond-25\" d=\"M 410.405,197.173 L 389.845,209.044\" style=\"fill:none;fill-rule:evenodd;stroke:#000000;stroke-width:2px;stroke-linecap:butt;stroke-linejoin:miter;stroke-opacity:1\"/>\n",
       "<text dominant-baseline=\"central\" style=\"font-size:11px;font-style:normal;font-weight:normal;fill-opacity:1;stroke:none;font-family:sans-serif;fill:#0000FF\" text-anchor=\"middle\" x=\"447.575\" y=\"241.768\"><tspan>N</tspan></text>\n",
       "<text dominant-baseline=\"central\" style=\"font-size:11px;font-style:normal;font-weight:normal;fill-opacity:1;stroke:none;font-family:sans-serif;fill:#0000FF\" text-anchor=\"start\" x=\"443.919\" y=\"230.632\"><tspan>H</tspan><tspan style=\"baseline-shift:super;font-size:8.25px;\">+</tspan><tspan/></text>\n",
       "<text dominant-baseline=\"central\" style=\"font-size:11px;font-style:normal;font-weight:normal;fill-opacity:1;stroke:none;font-family:sans-serif;fill:#0000FF\" text-anchor=\"middle\" x=\"447.575\" y=\"151.326\"><tspan>N</tspan></text>\n",
       "<path class=\"bond-0\" d=\"M 85.1971,793.578 L 85.324,799.762\" style=\"fill:none;fill-rule:evenodd;stroke:#FF0000;stroke-width:2px;stroke-linecap:butt;stroke-linejoin:miter;stroke-opacity:1\"/>\n",
       "<path class=\"bond-0\" d=\"M 85.324,799.762 L 85.451,805.946\" style=\"fill:none;fill-rule:evenodd;stroke:#000000;stroke-width:2px;stroke-linecap:butt;stroke-linejoin:miter;stroke-opacity:1\"/>\n",
       "<path class=\"bond-0\" d=\"M 89.2661,793.495 L 89.3931,799.679\" style=\"fill:none;fill-rule:evenodd;stroke:#FF0000;stroke-width:2px;stroke-linecap:butt;stroke-linejoin:miter;stroke-opacity:1\"/>\n",
       "<path class=\"bond-0\" d=\"M 89.3931,799.679 L 89.52,805.862\" style=\"fill:none;fill-rule:evenodd;stroke:#000000;stroke-width:2px;stroke-linecap:butt;stroke-linejoin:miter;stroke-opacity:1\"/>\n",
       "<path class=\"bond-1\" d=\"M 87.4855,805.904 L 74.4882,809.921\" style=\"fill:none;fill-rule:evenodd;stroke:#000000;stroke-width:2px;stroke-linecap:butt;stroke-linejoin:miter;stroke-opacity:1\"/>\n",
       "<path class=\"bond-1\" d=\"M 74.4882,809.921 L 61.4909,813.937\" style=\"fill:none;fill-rule:evenodd;stroke:#FF0000;stroke-width:2px;stroke-linecap:butt;stroke-linejoin:miter;stroke-opacity:1\"/>\n",
       "<path class=\"bond-2\" d=\"M 87.4855,805.904 L 112.36,828.96\" style=\"fill:none;fill-rule:evenodd;stroke:#000000;stroke-width:2px;stroke-linecap:butt;stroke-linejoin:miter;stroke-opacity:1\"/>\n",
       "<path class=\"bond-3\" d=\"M 112.36,828.96 L 104.83,862.029\" style=\"fill:none;fill-rule:evenodd;stroke:#000000;stroke-width:2px;stroke-linecap:butt;stroke-linejoin:miter;stroke-opacity:1\"/>\n",
       "<path class=\"bond-3\" d=\"M 117.844,835.426 L 112.574,858.575\" style=\"fill:none;fill-rule:evenodd;stroke:#000000;stroke-width:2px;stroke-linecap:butt;stroke-linejoin:miter;stroke-opacity:1\"/>\n",
       "<path class=\"bond-28\" d=\"M 112.36,828.96 L 144.764,818.946\" style=\"fill:none;fill-rule:evenodd;stroke:#000000;stroke-width:2px;stroke-linecap:butt;stroke-linejoin:miter;stroke-opacity:1\"/>\n",
       "<path class=\"bond-4\" d=\"M 104.83,862.029 L 129.704,885.085\" style=\"fill:none;fill-rule:evenodd;stroke:#000000;stroke-width:2px;stroke-linecap:butt;stroke-linejoin:miter;stroke-opacity:1\"/>\n",
       "<path class=\"bond-5\" d=\"M 129.704,885.085 L 162.108,875.071\" style=\"fill:none;fill-rule:evenodd;stroke:#000000;stroke-width:2px;stroke-linecap:butt;stroke-linejoin:miter;stroke-opacity:1\"/>\n",
       "<path class=\"bond-5\" d=\"M 132.562,877.102 L 155.245,870.092\" style=\"fill:none;fill-rule:evenodd;stroke:#000000;stroke-width:2px;stroke-linecap:butt;stroke-linejoin:miter;stroke-opacity:1\"/>\n",
       "<path class=\"bond-6\" d=\"M 162.108,875.071 L 169.638,842.002\" style=\"fill:none;fill-rule:evenodd;stroke:#000000;stroke-width:2px;stroke-linecap:butt;stroke-linejoin:miter;stroke-opacity:1\"/>\n",
       "<path class=\"bond-7\" d=\"M 169.638,842.002 L 144.764,818.946\" style=\"fill:none;fill-rule:evenodd;stroke:#000000;stroke-width:2px;stroke-linecap:butt;stroke-linejoin:miter;stroke-opacity:1\"/>\n",
       "<path class=\"bond-7\" d=\"M 161.296,843.518 L 143.884,827.379\" style=\"fill:none;fill-rule:evenodd;stroke:#000000;stroke-width:2px;stroke-linecap:butt;stroke-linejoin:miter;stroke-opacity:1\"/>\n",
       "<path class=\"bond-8\" d=\"M 144.764,818.946 L 152.293,785.876\" style=\"fill:none;fill-rule:evenodd;stroke:#000000;stroke-width:2px;stroke-linecap:butt;stroke-linejoin:miter;stroke-opacity:1\"/>\n",
       "<path class=\"bond-9\" d=\"M 152.293,785.876 L 184.697,775.862\" style=\"fill:none;fill-rule:evenodd;stroke:#000000;stroke-width:2px;stroke-linecap:butt;stroke-linejoin:miter;stroke-opacity:1\"/>\n",
       "<path class=\"bond-9\" d=\"M 155.151,777.893 L 177.834,770.884\" style=\"fill:none;fill-rule:evenodd;stroke:#000000;stroke-width:2px;stroke-linecap:butt;stroke-linejoin:miter;stroke-opacity:1\"/>\n",
       "<path class=\"bond-29\" d=\"M 152.293,785.876 L 127.419,762.821\" style=\"fill:none;fill-rule:evenodd;stroke:#000000;stroke-width:2px;stroke-linecap:butt;stroke-linejoin:miter;stroke-opacity:1\"/>\n",
       "<path class=\"bond-10\" d=\"M 184.697,775.862 L 209.571,798.918\" style=\"fill:none;fill-rule:evenodd;stroke:#000000;stroke-width:2px;stroke-linecap:butt;stroke-linejoin:miter;stroke-opacity:1\"/>\n",
       "<path class=\"bond-30\" d=\"M 184.697,775.862 L 192.227,742.793\" style=\"fill:none;fill-rule:evenodd;stroke:#000000;stroke-width:2px;stroke-linecap:butt;stroke-linejoin:miter;stroke-opacity:1\"/>\n",
       "<path class=\"bond-11\" d=\"M 209.571,798.918 L 241.975,788.904\" style=\"fill:none;fill-rule:evenodd;stroke:#000000;stroke-width:2px;stroke-linecap:butt;stroke-linejoin:miter;stroke-opacity:1\"/>\n",
       "<path class=\"bond-11\" d=\"M 212.429,790.935 L 235.112,783.925\" style=\"fill:none;fill-rule:evenodd;stroke:#000000;stroke-width:2px;stroke-linecap:butt;stroke-linejoin:miter;stroke-opacity:1\"/>\n",
       "<path class=\"bond-12\" d=\"M 241.975,788.904 L 251.363,797.606\" style=\"fill:none;fill-rule:evenodd;stroke:#000000;stroke-width:2px;stroke-linecap:butt;stroke-linejoin:miter;stroke-opacity:1\"/>\n",
       "<path class=\"bond-12\" d=\"M 251.363,797.606 L 260.751,806.307\" style=\"fill:none;fill-rule:evenodd;stroke:#7F4C19;stroke-width:2px;stroke-linecap:butt;stroke-linejoin:miter;stroke-opacity:1\"/>\n",
       "<path class=\"bond-13\" d=\"M 241.975,788.904 L 249.505,755.835\" style=\"fill:none;fill-rule:evenodd;stroke:#000000;stroke-width:2px;stroke-linecap:butt;stroke-linejoin:miter;stroke-opacity:1\"/>\n",
       "<path class=\"bond-14\" d=\"M 250.506,759.075 L 264.068,754.884\" style=\"fill:none;fill-rule:evenodd;stroke:#000000;stroke-width:2px;stroke-linecap:butt;stroke-linejoin:miter;stroke-opacity:1\"/>\n",
       "<path class=\"bond-14\" d=\"M 264.068,754.884 L 277.631,750.692\" style=\"fill:none;fill-rule:evenodd;stroke:#FF0000;stroke-width:2px;stroke-linecap:butt;stroke-linejoin:miter;stroke-opacity:1\"/>\n",
       "<path class=\"bond-14\" d=\"M 248.503,752.594 L 262.066,748.403\" style=\"fill:none;fill-rule:evenodd;stroke:#000000;stroke-width:2px;stroke-linecap:butt;stroke-linejoin:miter;stroke-opacity:1\"/>\n",
       "<path class=\"bond-14\" d=\"M 262.066,748.403 L 275.628,744.212\" style=\"fill:none;fill-rule:evenodd;stroke:#FF0000;stroke-width:2px;stroke-linecap:butt;stroke-linejoin:miter;stroke-opacity:1\"/>\n",
       "<path class=\"bond-15\" d=\"M 249.505,755.835 L 224.631,732.779\" style=\"fill:none;fill-rule:evenodd;stroke:#000000;stroke-width:2px;stroke-linecap:butt;stroke-linejoin:miter;stroke-opacity:1\"/>\n",
       "<path class=\"bond-16\" d=\"M 224.631,732.779 L 227.752,719.07\" style=\"fill:none;fill-rule:evenodd;stroke:#000000;stroke-width:2px;stroke-linecap:butt;stroke-linejoin:miter;stroke-opacity:1\"/>\n",
       "<path class=\"bond-16\" d=\"M 227.752,719.07 L 230.873,705.362\" style=\"fill:none;fill-rule:evenodd;stroke:#7F4C19;stroke-width:2px;stroke-linecap:butt;stroke-linejoin:miter;stroke-opacity:1\"/>\n",
       "<path class=\"bond-17\" d=\"M 224.631,732.779 L 192.227,742.793\" style=\"fill:none;fill-rule:evenodd;stroke:#000000;stroke-width:2px;stroke-linecap:butt;stroke-linejoin:miter;stroke-opacity:1\"/>\n",
       "<path class=\"bond-17\" d=\"M 221.773,740.762 L 199.09,747.772\" style=\"fill:none;fill-rule:evenodd;stroke:#000000;stroke-width:2px;stroke-linecap:butt;stroke-linejoin:miter;stroke-opacity:1\"/>\n",
       "<path class=\"bond-18\" d=\"M 192.227,742.793 L 182.429,733.712\" style=\"fill:none;fill-rule:evenodd;stroke:#000000;stroke-width:2px;stroke-linecap:butt;stroke-linejoin:miter;stroke-opacity:1\"/>\n",
       "<path class=\"bond-18\" d=\"M 182.429,733.712 L 172.632,724.631\" style=\"fill:none;fill-rule:evenodd;stroke:#FF0000;stroke-width:2px;stroke-linecap:butt;stroke-linejoin:miter;stroke-opacity:1\"/>\n",
       "<path class=\"bond-19\" d=\"M 162.073,721.369 L 148.511,725.56\" style=\"fill:none;fill-rule:evenodd;stroke:#FF0000;stroke-width:2px;stroke-linecap:butt;stroke-linejoin:miter;stroke-opacity:1\"/>\n",
       "<path class=\"bond-19\" d=\"M 148.511,725.56 L 134.949,729.751\" style=\"fill:none;fill-rule:evenodd;stroke:#000000;stroke-width:2px;stroke-linecap:butt;stroke-linejoin:miter;stroke-opacity:1\"/>\n",
       "<path class=\"bond-20\" d=\"M 134.949,729.751 L 110.074,706.696\" style=\"fill:none;fill-rule:evenodd;stroke:#000000;stroke-width:2px;stroke-linecap:butt;stroke-linejoin:miter;stroke-opacity:1\"/>\n",
       "<path class=\"bond-20\" d=\"M 126.606,731.268 L 109.194,715.129\" style=\"fill:none;fill-rule:evenodd;stroke:#000000;stroke-width:2px;stroke-linecap:butt;stroke-linejoin:miter;stroke-opacity:1\"/>\n",
       "<path class=\"bond-31\" d=\"M 134.949,729.751 L 127.419,762.821\" style=\"fill:none;fill-rule:evenodd;stroke:#000000;stroke-width:2px;stroke-linecap:butt;stroke-linejoin:miter;stroke-opacity:1\"/>\n",
       "<path class=\"bond-21\" d=\"M 110.074,706.696 L 113.196,692.987\" style=\"fill:none;fill-rule:evenodd;stroke:#000000;stroke-width:2px;stroke-linecap:butt;stroke-linejoin:miter;stroke-opacity:1\"/>\n",
       "<path class=\"bond-21\" d=\"M 113.196,692.987 L 116.317,679.279\" style=\"fill:none;fill-rule:evenodd;stroke:#7F4C19;stroke-width:2px;stroke-linecap:butt;stroke-linejoin:miter;stroke-opacity:1\"/>\n",
       "<path class=\"bond-22\" d=\"M 110.074,706.696 L 77.6704,716.71\" style=\"fill:none;fill-rule:evenodd;stroke:#000000;stroke-width:2px;stroke-linecap:butt;stroke-linejoin:miter;stroke-opacity:1\"/>\n",
       "<path class=\"bond-23\" d=\"M 77.6704,716.71 L 68.438,708.152\" style=\"fill:none;fill-rule:evenodd;stroke:#000000;stroke-width:2px;stroke-linecap:butt;stroke-linejoin:miter;stroke-opacity:1\"/>\n",
       "<path class=\"bond-23\" d=\"M 68.438,708.152 L 59.2055,699.595\" style=\"fill:none;fill-rule:evenodd;stroke:#FF0000;stroke-width:2px;stroke-linecap:butt;stroke-linejoin:miter;stroke-opacity:1\"/>\n",
       "<path class=\"bond-24\" d=\"M 77.6704,716.71 L 70.1408,749.779\" style=\"fill:none;fill-rule:evenodd;stroke:#000000;stroke-width:2px;stroke-linecap:butt;stroke-linejoin:miter;stroke-opacity:1\"/>\n",
       "<path class=\"bond-24\" d=\"M 83.1549,723.176 L 77.8842,746.325\" style=\"fill:none;fill-rule:evenodd;stroke:#000000;stroke-width:2px;stroke-linecap:butt;stroke-linejoin:miter;stroke-opacity:1\"/>\n",
       "<path class=\"bond-25\" d=\"M 70.1408,749.779 L 57.3319,753.738\" style=\"fill:none;fill-rule:evenodd;stroke:#000000;stroke-width:2px;stroke-linecap:butt;stroke-linejoin:miter;stroke-opacity:1\"/>\n",
       "<path class=\"bond-25\" d=\"M 57.3319,753.738 L 44.5229,757.696\" style=\"fill:none;fill-rule:evenodd;stroke:#7F4C19;stroke-width:2px;stroke-linecap:butt;stroke-linejoin:miter;stroke-opacity:1\"/>\n",
       "<path class=\"bond-26\" d=\"M 70.1408,749.779 L 95.0151,772.835\" style=\"fill:none;fill-rule:evenodd;stroke:#000000;stroke-width:2px;stroke-linecap:butt;stroke-linejoin:miter;stroke-opacity:1\"/>\n",
       "<path class=\"bond-27\" d=\"M 95.0151,772.835 L 127.419,762.821\" style=\"fill:none;fill-rule:evenodd;stroke:#000000;stroke-width:2px;stroke-linecap:butt;stroke-linejoin:miter;stroke-opacity:1\"/>\n",
       "<path class=\"bond-27\" d=\"M 97.8729,764.852 L 120.556,757.842\" style=\"fill:none;fill-rule:evenodd;stroke:#000000;stroke-width:2px;stroke-linecap:butt;stroke-linejoin:miter;stroke-opacity:1\"/>\n",
       "<text dominant-baseline=\"central\" style=\"font-size:11px;font-style:normal;font-weight:normal;fill-opacity:1;stroke:none;font-family:sans-serif;fill:#FF0000\" text-anchor=\"start\" x=\"82.9667\" y=\"789.58\"><tspan>O</tspan></text>\n",
       "<text dominant-baseline=\"central\" style=\"font-size:11px;font-style:normal;font-weight:normal;fill-opacity:1;stroke:none;font-family:sans-serif;fill:#FF0000\" text-anchor=\"end\" x=\"60.2473\" y=\"817.784\"><tspan>O</tspan><tspan style=\"baseline-shift:super;font-size:8.25px;\">-</tspan><tspan/></text>\n",
       "<text dominant-baseline=\"central\" style=\"font-size:11px;font-style:normal;font-weight:normal;fill-opacity:1;stroke:none;font-family:sans-serif;fill:#7F4C19\" text-anchor=\"start\" x=\"261.194\" y=\"813.655\"><tspan>Br</tspan></text>\n",
       "<text dominant-baseline=\"central\" style=\"font-size:11px;font-style:normal;font-weight:normal;fill-opacity:1;stroke:none;font-family:sans-serif;fill:#FF0000\" text-anchor=\"start\" x=\"277.76\" y=\"747.516\"><tspan>O</tspan></text>\n",
       "<text dominant-baseline=\"central\" style=\"font-size:11px;font-style:normal;font-weight:normal;fill-opacity:1;stroke:none;font-family:sans-serif;fill:#7F4C19\" text-anchor=\"start\" x=\"226.505\" y=\"701.405\"><tspan>Br</tspan></text>\n",
       "<text dominant-baseline=\"central\" style=\"font-size:11px;font-style:normal;font-weight:normal;fill-opacity:1;stroke:none;font-family:sans-serif;fill:#FF0000\" text-anchor=\"middle\" x=\"167.352\" y=\"721.433\"><tspan>O</tspan></text>\n",
       "<text dominant-baseline=\"central\" style=\"font-size:11px;font-style:normal;font-weight:normal;fill-opacity:1;stroke:none;font-family:sans-serif;fill:#7F4C19\" text-anchor=\"start\" x=\"111.949\" y=\"675.322\"><tspan>Br</tspan></text>\n",
       "<text dominant-baseline=\"central\" style=\"font-size:11px;font-style:normal;font-weight:normal;fill-opacity:1;stroke:none;font-family:sans-serif;fill:#FF0000\" text-anchor=\"end\" x=\"57.9619\" y=\"695.519\"><tspan>O</tspan><tspan style=\"baseline-shift:super;font-size:8.25px;\">-</tspan><tspan/></text>\n",
       "<text dominant-baseline=\"central\" style=\"font-size:11px;font-style:normal;font-weight:normal;fill-opacity:1;stroke:none;font-family:sans-serif;fill:#7F4C19\" text-anchor=\"end\" x=\"43.3923\" y=\"761.489\"><tspan>Br</tspan></text>\n",
       "<text dominant-baseline=\"central\" style=\"font-size:11px;font-style:normal;font-weight:normal;fill-opacity:1;stroke:none;font-family:sans-serif;fill:#000000\" text-anchor=\"start\" x=\"140.146\" y=\"652.881\"><tspan>Na</tspan><tspan style=\"baseline-shift:super;font-size:8.25px;\">+</tspan><tspan/></text>\n",
       "<text dominant-baseline=\"central\" style=\"font-size:11px;font-style:normal;font-weight:normal;fill-opacity:1;stroke:none;font-family:sans-serif;fill:#000000\" text-anchor=\"start\" x=\"140.146\" y=\"630.27\"><tspan>Na</tspan><tspan style=\"baseline-shift:super;font-size:8.25px;\">+</tspan><tspan/></text>\n",
       "<path class=\"bond-0\" d=\"M 326.53,792.416 L 340.763,790.98\" style=\"fill:none;fill-rule:evenodd;stroke:#FF0000;stroke-width:2px;stroke-linecap:butt;stroke-linejoin:miter;stroke-opacity:1\"/>\n",
       "<path class=\"bond-0\" d=\"M 340.763,790.98 L 354.996,789.545\" style=\"fill:none;fill-rule:evenodd;stroke:#000000;stroke-width:2px;stroke-linecap:butt;stroke-linejoin:miter;stroke-opacity:1\"/>\n",
       "<path class=\"bond-0\" d=\"M 325.85,785.667 L 340.082,784.231\" style=\"fill:none;fill-rule:evenodd;stroke:#FF0000;stroke-width:2px;stroke-linecap:butt;stroke-linejoin:miter;stroke-opacity:1\"/>\n",
       "<path class=\"bond-0\" d=\"M 340.082,784.231 L 354.315,782.796\" style=\"fill:none;fill-rule:evenodd;stroke:#000000;stroke-width:2px;stroke-linecap:butt;stroke-linejoin:miter;stroke-opacity:1\"/>\n",
       "<path class=\"bond-1\" d=\"M 354.655,786.171 L 374.475,813.693\" style=\"fill:none;fill-rule:evenodd;stroke:#000000;stroke-width:2px;stroke-linecap:butt;stroke-linejoin:miter;stroke-opacity:1\"/>\n",
       "<path class=\"bond-20\" d=\"M 354.655,786.171 L 368.581,755.245\" style=\"fill:none;fill-rule:evenodd;stroke:#000000;stroke-width:2px;stroke-linecap:butt;stroke-linejoin:miter;stroke-opacity:1\"/>\n",
       "<path class=\"bond-2\" d=\"M 374.475,813.693 L 408.22,810.29\" style=\"fill:none;fill-rule:evenodd;stroke:#000000;stroke-width:2px;stroke-linecap:butt;stroke-linejoin:miter;stroke-opacity:1\"/>\n",
       "<path class=\"bond-2\" d=\"M 378.856,806.433 L 402.477,804.051\" style=\"fill:none;fill-rule:evenodd;stroke:#000000;stroke-width:2px;stroke-linecap:butt;stroke-linejoin:miter;stroke-opacity:1\"/>\n",
       "<path class=\"bond-3\" d=\"M 408.22,810.29 L 422.145,779.364\" style=\"fill:none;fill-rule:evenodd;stroke:#000000;stroke-width:2px;stroke-linecap:butt;stroke-linejoin:miter;stroke-opacity:1\"/>\n",
       "<path class=\"bond-4\" d=\"M 422.145,779.364 L 455.89,775.961\" style=\"fill:none;fill-rule:evenodd;stroke:#000000;stroke-width:2px;stroke-linecap:butt;stroke-linejoin:miter;stroke-opacity:1\"/>\n",
       "<path class=\"bond-4\" d=\"M 426.526,772.105 L 450.147,769.723\" style=\"fill:none;fill-rule:evenodd;stroke:#000000;stroke-width:2px;stroke-linecap:butt;stroke-linejoin:miter;stroke-opacity:1\"/>\n",
       "<path class=\"bond-21\" d=\"M 422.145,779.364 L 402.325,751.842\" style=\"fill:none;fill-rule:evenodd;stroke:#000000;stroke-width:2px;stroke-linecap:butt;stroke-linejoin:miter;stroke-opacity:1\"/>\n",
       "<path class=\"bond-5\" d=\"M 455.89,775.961 L 475.709,803.483\" style=\"fill:none;fill-rule:evenodd;stroke:#000000;stroke-width:2px;stroke-linecap:butt;stroke-linejoin:miter;stroke-opacity:1\"/>\n",
       "<path class=\"bond-11\" d=\"M 455.89,775.961 L 469.815,745.036\" style=\"fill:none;fill-rule:evenodd;stroke:#000000;stroke-width:2px;stroke-linecap:butt;stroke-linejoin:miter;stroke-opacity:1\"/>\n",
       "<path class=\"bond-6\" d=\"M 475.709,803.483 L 461.784,834.409\" style=\"fill:none;fill-rule:evenodd;stroke:#000000;stroke-width:2px;stroke-linecap:butt;stroke-linejoin:miter;stroke-opacity:1\"/>\n",
       "<path class=\"bond-6\" d=\"M 479.806,810.907 L 470.058,832.555\" style=\"fill:none;fill-rule:evenodd;stroke:#000000;stroke-width:2px;stroke-linecap:butt;stroke-linejoin:miter;stroke-opacity:1\"/>\n",
       "<path class=\"bond-22\" d=\"M 475.709,803.483 L 509.454,800.08\" style=\"fill:none;fill-rule:evenodd;stroke:#000000;stroke-width:2px;stroke-linecap:butt;stroke-linejoin:miter;stroke-opacity:1\"/>\n",
       "<path class=\"bond-7\" d=\"M 461.784,834.409 L 481.604,861.931\" style=\"fill:none;fill-rule:evenodd;stroke:#000000;stroke-width:2px;stroke-linecap:butt;stroke-linejoin:miter;stroke-opacity:1\"/>\n",
       "<path class=\"bond-8\" d=\"M 481.604,861.931 L 515.348,858.528\" style=\"fill:none;fill-rule:evenodd;stroke:#000000;stroke-width:2px;stroke-linecap:butt;stroke-linejoin:miter;stroke-opacity:1\"/>\n",
       "<path class=\"bond-8\" d=\"M 485.985,854.672 L 509.606,852.289\" style=\"fill:none;fill-rule:evenodd;stroke:#000000;stroke-width:2px;stroke-linecap:butt;stroke-linejoin:miter;stroke-opacity:1\"/>\n",
       "<path class=\"bond-9\" d=\"M 515.348,858.528 L 529.274,827.602\" style=\"fill:none;fill-rule:evenodd;stroke:#000000;stroke-width:2px;stroke-linecap:butt;stroke-linejoin:miter;stroke-opacity:1\"/>\n",
       "<path class=\"bond-10\" d=\"M 529.274,827.602 L 509.454,800.08\" style=\"fill:none;fill-rule:evenodd;stroke:#000000;stroke-width:2px;stroke-linecap:butt;stroke-linejoin:miter;stroke-opacity:1\"/>\n",
       "<path class=\"bond-10\" d=\"M 520.796,827.438 L 506.923,808.172\" style=\"fill:none;fill-rule:evenodd;stroke:#000000;stroke-width:2px;stroke-linecap:butt;stroke-linejoin:miter;stroke-opacity:1\"/>\n",
       "<path class=\"bond-12\" d=\"M 469.815,745.036 L 503.56,741.633\" style=\"fill:none;fill-rule:evenodd;stroke:#000000;stroke-width:2px;stroke-linecap:butt;stroke-linejoin:miter;stroke-opacity:1\"/>\n",
       "<path class=\"bond-12\" d=\"M 474.196,737.776 L 497.817,735.394\" style=\"fill:none;fill-rule:evenodd;stroke:#000000;stroke-width:2px;stroke-linecap:butt;stroke-linejoin:miter;stroke-opacity:1\"/>\n",
       "<path class=\"bond-23\" d=\"M 469.815,745.036 L 449.995,717.513\" style=\"fill:none;fill-rule:evenodd;stroke:#000000;stroke-width:2px;stroke-linecap:butt;stroke-linejoin:miter;stroke-opacity:1\"/>\n",
       "<path class=\"bond-13\" d=\"M 503.56,741.633 L 517.485,710.707\" style=\"fill:none;fill-rule:evenodd;stroke:#000000;stroke-width:2px;stroke-linecap:butt;stroke-linejoin:miter;stroke-opacity:1\"/>\n",
       "<path class=\"bond-14\" d=\"M 517.485,710.707 L 497.665,683.185\" style=\"fill:none;fill-rule:evenodd;stroke:#000000;stroke-width:2px;stroke-linecap:butt;stroke-linejoin:miter;stroke-opacity:1\"/>\n",
       "<path class=\"bond-14\" d=\"M 509.007,710.543 L 495.134,691.277\" style=\"fill:none;fill-rule:evenodd;stroke:#000000;stroke-width:2px;stroke-linecap:butt;stroke-linejoin:miter;stroke-opacity:1\"/>\n",
       "<path class=\"bond-15\" d=\"M 497.665,683.185 L 463.92,686.588\" style=\"fill:none;fill-rule:evenodd;stroke:#000000;stroke-width:2px;stroke-linecap:butt;stroke-linejoin:miter;stroke-opacity:1\"/>\n",
       "<path class=\"bond-16\" d=\"M 463.92,686.588 L 449.995,717.513\" style=\"fill:none;fill-rule:evenodd;stroke:#000000;stroke-width:2px;stroke-linecap:butt;stroke-linejoin:miter;stroke-opacity:1\"/>\n",
       "<path class=\"bond-16\" d=\"M 468.017,694.012 L 458.269,715.66\" style=\"fill:none;fill-rule:evenodd;stroke:#000000;stroke-width:2px;stroke-linecap:butt;stroke-linejoin:miter;stroke-opacity:1\"/>\n",
       "<path class=\"bond-17\" d=\"M 449.995,717.513 L 435.763,718.949\" style=\"fill:none;fill-rule:evenodd;stroke:#000000;stroke-width:2px;stroke-linecap:butt;stroke-linejoin:miter;stroke-opacity:1\"/>\n",
       "<path class=\"bond-17\" d=\"M 435.763,718.949 L 421.53,720.384\" style=\"fill:none;fill-rule:evenodd;stroke:#FF0000;stroke-width:2px;stroke-linecap:butt;stroke-linejoin:miter;stroke-opacity:1\"/>\n",
       "<path class=\"bond-18\" d=\"M 413.705,726.569 L 408.015,739.206\" style=\"fill:none;fill-rule:evenodd;stroke:#FF0000;stroke-width:2px;stroke-linecap:butt;stroke-linejoin:miter;stroke-opacity:1\"/>\n",
       "<path class=\"bond-18\" d=\"M 408.015,739.206 L 402.325,751.842\" style=\"fill:none;fill-rule:evenodd;stroke:#000000;stroke-width:2px;stroke-linecap:butt;stroke-linejoin:miter;stroke-opacity:1\"/>\n",
       "<path class=\"bond-19\" d=\"M 402.325,751.842 L 368.581,755.245\" style=\"fill:none;fill-rule:evenodd;stroke:#000000;stroke-width:2px;stroke-linecap:butt;stroke-linejoin:miter;stroke-opacity:1\"/>\n",
       "<path class=\"bond-19\" d=\"M 397.944,759.101 L 374.323,761.484\" style=\"fill:none;fill-rule:evenodd;stroke:#000000;stroke-width:2px;stroke-linecap:butt;stroke-linejoin:miter;stroke-opacity:1\"/>\n",
       "<text dominant-baseline=\"central\" style=\"font-size:11px;font-style:normal;font-weight:normal;fill-opacity:1;stroke:none;font-family:sans-serif;fill:#FF0000\" text-anchor=\"end\" x=\"325.06\" y=\"791.269\"><tspan>O</tspan></text>\n",
       "<text dominant-baseline=\"central\" style=\"font-size:11px;font-style:normal;font-weight:normal;fill-opacity:1;stroke:none;font-family:sans-serif;fill:#FF0000\" text-anchor=\"end\" x=\"420.399\" y=\"722.612\"><tspan>O</tspan></text>\n",
       "</svg>"
      ],
      "text/plain": [
       "<IPython.core.display.SVG object>"
      ]
     },
     "execution_count": 30,
     "metadata": {},
     "output_type": "execute_result"
    }
   ],
   "source": [
    "from rdkit.Chem import Draw\n",
    "img = Draw.MolsToGridImage(mol_list, molsPerRow=2, subImgSize=(300, 500), maxMols=10,\n",
    "                           legends=None, useSVG=True)\n",
    "img"
   ]
  },
  {
   "cell_type": "markdown",
   "metadata": {},
   "source": [
    "One thing that we will do is take a set of known toxic molecules, find the dice similarity between them and the rest of the SMILES dataset to see how much the candidate molecules resemble the the known toxic ones. It's useful to consider the scaffolding for this since it takes the essential structure of the molecule only. "
   ]
  },
  {
   "cell_type": "markdown",
   "metadata": {},
   "source": [
    "## Molecular Descriptors"
   ]
  },
  {
   "cell_type": "markdown",
   "metadata": {},
   "source": [
    "Within the domain of the molecules study, we can also consider quantitative molecular descriptors of the molecules themselves. This can be found by using the rdkit library itself. The functionality has been wrapped with specific descriptors being called in the following functions."
   ]
  },
  {
   "cell_type": "code",
   "execution_count": 31,
   "metadata": {},
   "outputs": [
    {
     "name": "stderr",
     "output_type": "stream",
     "text": [
      "RDKit ERROR: ****\n",
      "RDKit ERROR: Pre-condition Violation\n",
      "RDKit ERROR: molecule has no conformers\n",
      "RDKit ERROR: Violation occurred on line 145 in file /Users/runner/miniforge3/conda-bld/rdkit_1589101086697/work/Code/GraphMol/Descriptors/PMI.cpp\n",
      "RDKit ERROR: Failed Expression: mol.getNumConformers() >= 1\n",
      "RDKit ERROR: ****\n",
      "RDKit ERROR: \n",
      "RDKit ERROR: [14:31:51] \n",
      "RDKit ERROR: \n",
      "RDKit ERROR: ****\n",
      "RDKit ERROR: Pre-condition Violation\n",
      "RDKit ERROR: molecule has no conformers\n",
      "RDKit ERROR: Violation occurred on line 154 in file /Users/runner/miniforge3/conda-bld/rdkit_1589101086697/work/Code/GraphMol/Descriptors/PMI.cpp\n",
      "RDKit ERROR: Failed Expression: mol.getNumConformers() >= 1\n",
      "RDKit ERROR: ****\n",
      "RDKit ERROR: \n",
      "RDKit ERROR: [14:31:51] \n",
      "RDKit ERROR: \n",
      "RDKit ERROR: ****\n",
      "RDKit ERROR: Pre-condition Violation\n",
      "RDKit ERROR: molecule has no conformers\n",
      "RDKit ERROR: Violation occurred on line 165 in file /Users/runner/miniforge3/conda-bld/rdkit_1589101086697/work/Code/GraphMol/Descriptors/PMI.cpp\n",
      "RDKit ERROR: Failed Expression: mol.getNumConformers() >= 1\n",
      "RDKit ERROR: ****\n",
      "RDKit ERROR: \n",
      "RDKit ERROR: [14:31:51] \n",
      "RDKit ERROR: \n",
      "RDKit ERROR: ****\n",
      "RDKit ERROR: Pre-condition Violation\n",
      "RDKit ERROR: molecule has no conformers\n",
      "RDKit ERROR: Violation occurred on line 226 in file /Users/runner/miniforge3/conda-bld/rdkit_1589101086697/work/Code/GraphMol/Descriptors/PMI.cpp\n",
      "RDKit ERROR: Failed Expression: mol.getNumConformers() >= 1\n",
      "RDKit ERROR: ****\n",
      "RDKit ERROR: \n",
      "RDKit ERROR: [14:31:56] \n",
      "RDKit ERROR: \n",
      "RDKit ERROR: ****\n",
      "RDKit ERROR: Pre-condition Violation\n",
      "RDKit ERROR: molecule has no conformers\n",
      "RDKit ERROR: Violation occurred on line 208 in file /Users/runner/miniforge3/conda-bld/rdkit_1589101086697/work/Code/GraphMol/Descriptors/PMI.cpp\n",
      "RDKit ERROR: Failed Expression: mol.getNumConformers() >= 1\n",
      "RDKit ERROR: ****\n",
      "RDKit ERROR: \n",
      "RDKit ERROR: [14:31:56] \n",
      "RDKit ERROR: \n",
      "RDKit ERROR: ****\n",
      "RDKit ERROR: Pre-condition Violation\n",
      "RDKit ERROR: molecule has no conformers\n",
      "RDKit ERROR: Violation occurred on line 192 in file /Users/runner/miniforge3/conda-bld/rdkit_1589101086697/work/Code/GraphMol/Descriptors/PMI.cpp\n",
      "RDKit ERROR: Failed Expression: mol.getNumConformers() >= 1\n",
      "RDKit ERROR: ****\n",
      "RDKit ERROR: \n",
      "RDKit ERROR: [14:31:56] \n",
      "RDKit ERROR: \n",
      "RDKit ERROR: ****\n",
      "RDKit ERROR: Pre-condition Violation\n",
      "RDKit ERROR: molecule has no conformers\n",
      "RDKit ERROR: Violation occurred on line 177 in file /Users/runner/miniforge3/conda-bld/rdkit_1589101086697/work/Code/GraphMol/Descriptors/PMI.cpp\n",
      "RDKit ERROR: Failed Expression: mol.getNumConformers() >= 1\n",
      "RDKit ERROR: ****\n",
      "RDKit ERROR: \n",
      "RDKit ERROR: [14:31:56] \n",
      "RDKit ERROR: \n",
      "RDKit ERROR: ****\n",
      "RDKit ERROR: Pre-condition Violation\n",
      "RDKit ERROR: molecule has no conformers\n",
      "RDKit ERROR: Violation occurred on line 112 in file /Users/runner/miniforge3/conda-bld/rdkit_1589101086697/work/Code/GraphMol/Descriptors/PMI.cpp\n",
      "RDKit ERROR: Failed Expression: mol.getNumConformers() >= 1\n",
      "RDKit ERROR: ****\n",
      "RDKit ERROR: \n",
      "RDKit ERROR: [14:31:56] \n",
      "RDKit ERROR: \n",
      "RDKit ERROR: ****\n",
      "RDKit ERROR: Pre-condition Violation\n",
      "RDKit ERROR: molecule has no conformers\n",
      "RDKit ERROR: Violation occurred on line 124 in file /Users/runner/miniforge3/conda-bld/rdkit_1589101086697/work/Code/GraphMol/Descriptors/PMI.cpp\n",
      "RDKit ERROR: Failed Expression: mol.getNumConformers() >= 1\n",
      "RDKit ERROR: ****\n",
      "RDKit ERROR: \n",
      "RDKit ERROR: [14:31:56] \n",
      "RDKit ERROR: \n",
      "RDKit ERROR: ****\n",
      "RDKit ERROR: Pre-condition Violation\n",
      "RDKit ERROR: molecule has no conformers\n",
      "RDKit ERROR: Violation occurred on line 136 in file /Users/runner/miniforge3/conda-bld/rdkit_1589101086697/work/Code/GraphMol/Descriptors/PMI.cpp\n",
      "RDKit ERROR: Failed Expression: mol.getNumConformers() >= 1\n",
      "RDKit ERROR: ****\n",
      "RDKit ERROR: \n",
      "RDKit ERROR: [14:31:56] \n",
      "RDKit ERROR: \n",
      "RDKit ERROR: ****\n",
      "RDKit ERROR: Pre-condition Violation\n",
      "RDKit ERROR: molecule has no conformers\n",
      "RDKit ERROR: Violation occurred on line 145 in file /Users/runner/miniforge3/conda-bld/rdkit_1589101086697/work/Code/GraphMol/Descriptors/PMI.cpp\n",
      "RDKit ERROR: Failed Expression: mol.getNumConformers() >= 1\n",
      "RDKit ERROR: ****\n",
      "RDKit ERROR: \n",
      "RDKit ERROR: [14:31:56] \n",
      "RDKit ERROR: \n",
      "RDKit ERROR: ****\n",
      "RDKit ERROR: Pre-condition Violation\n",
      "RDKit ERROR: molecule has no conformers\n",
      "RDKit ERROR: Violation occurred on line 154 in file /Users/runner/miniforge3/conda-bld/rdkit_1589101086697/work/Code/GraphMol/Descriptors/PMI.cpp\n",
      "RDKit ERROR: Failed Expression: mol.getNumConformers() >= 1\n",
      "RDKit ERROR: ****\n",
      "RDKit ERROR: \n",
      "RDKit ERROR: [14:31:56] \n",
      "RDKit ERROR: \n",
      "RDKit ERROR: ****\n",
      "RDKit ERROR: Pre-condition Violation\n",
      "RDKit ERROR: molecule has no conformers\n",
      "RDKit ERROR: Violation occurred on line 165 in file /Users/runner/miniforge3/conda-bld/rdkit_1589101086697/work/Code/GraphMol/Descriptors/PMI.cpp\n",
      "RDKit ERROR: Failed Expression: mol.getNumConformers() >= 1\n",
      "RDKit ERROR: ****\n",
      "RDKit ERROR: \n",
      "RDKit ERROR: [14:31:56] \n",
      "RDKit ERROR: \n",
      "RDKit ERROR: ****\n",
      "RDKit ERROR: Pre-condition Violation\n",
      "RDKit ERROR: molecule has no conformers\n",
      "RDKit ERROR: Violation occurred on line 226 in file /Users/runner/miniforge3/conda-bld/rdkit_1589101086697/work/Code/GraphMol/Descriptors/PMI.cpp\n",
      "RDKit ERROR: Failed Expression: mol.getNumConformers() >= 1\n",
      "RDKit ERROR: ****\n",
      "RDKit ERROR: \n",
      "RDKit ERROR: [14:32:48] \n",
      "RDKit ERROR: \n",
      "RDKit ERROR: ****\n",
      "RDKit ERROR: Pre-condition Violation\n",
      "RDKit ERROR: molecule has no conformers\n",
      "RDKit ERROR: Violation occurred on line 208 in file /Users/runner/miniforge3/conda-bld/rdkit_1589101086697/work/Code/GraphMol/Descriptors/PMI.cpp\n",
      "RDKit ERROR: Failed Expression: mol.getNumConformers() >= 1\n",
      "RDKit ERROR: ****\n",
      "RDKit ERROR: \n",
      "RDKit ERROR: [14:32:48] \n",
      "RDKit ERROR: \n",
      "RDKit ERROR: ****\n",
      "RDKit ERROR: Pre-condition Violation\n",
      "RDKit ERROR: molecule has no conformers\n",
      "RDKit ERROR: Violation occurred on line 192 in file /Users/runner/miniforge3/conda-bld/rdkit_1589101086697/work/Code/GraphMol/Descriptors/PMI.cpp\n",
      "RDKit ERROR: Failed Expression: mol.getNumConformers() >= 1\n",
      "RDKit ERROR: ****\n",
      "RDKit ERROR: \n",
      "RDKit ERROR: [14:32:48] \n",
      "RDKit ERROR: \n",
      "RDKit ERROR: ****\n"
     ]
    },
    {
     "data": {
      "text/plain": [
       "{'Asphericity': nan,\n",
       " 'Eccentricity': nan,\n",
       " 'InertialShapeFactor': nan,\n",
       " 'NPR1': nan,\n",
       " 'NPR2': nan,\n",
       " 'PMI1': nan,\n",
       " 'PMI2': nan,\n",
       " 'PMI3': nan,\n",
       " 'RadiusOfGyration': nan,\n",
       " 'SpherocityIndex': nan,\n",
       " 'MaxEStateIndex': 5.828705435878055,\n",
       " 'MinEStateIndex': 0.0,\n",
       " 'MaxAbsEStateIndex': 5.828705435878055,\n",
       " 'MinAbsEStateIndex': 0.0,\n",
       " 'qed': 0.15297263922933393,\n",
       " 'MolWt': 468.9920000000002,\n",
       " 'HeavyAtomMolWt': 443.79200000000026,\n",
       " 'ExactMolWt': 468.18292248000006,\n",
       " 'NumValenceElectrons': 170,\n",
       " 'NumRadicalElectrons': 0,\n",
       " 'MaxPartialCharge': 0.21433941204267085,\n",
       " 'MinPartialCharge': -1.0,\n",
       " 'MaxAbsPartialCharge': 1.0,\n",
       " 'MinAbsPartialCharge': 0.21433941204267085,\n",
       " 'FpDensityMorgan1': 0.5,\n",
       " 'FpDensityMorgan2': 0.8529411764705882,\n",
       " 'FpDensityMorgan3': 1.2941176470588236,\n",
       " 'BalabanJ': 1.5670587916460938e-07,\n",
       " 'BertzCT': 1562.73997709949,\n",
       " 'Chi0': 23.112155217263346,\n",
       " 'Chi0n': 18.664696509422413,\n",
       " 'Chi0v': 19.420625455440867,\n",
       " 'Chi1': 15.868213736153121,\n",
       " 'Chi1n': 10.603177350108718,\n",
       " 'Chi1v': 10.603177350108718,\n",
       " 'Chi2n': 8.232507979597537,\n",
       " 'Chi2v': 8.232507979597537,\n",
       " 'Chi3n': 5.803592185137971,\n",
       " 'Chi3v': 5.803592185137971,\n",
       " 'Chi4n': 4.1002074867356475,\n",
       " 'Chi4v': 4.1002074867356475,\n",
       " 'HallKierAlpha': -4.289999999999999,\n",
       " 'Ipc': 34384612.985436894,\n",
       " 'Kappa1': 22.888005467762287,\n",
       " 'Kappa2': 8.92110637230032,\n",
       " 'Kappa3': 4.311999226068606,\n",
       " 'LabuteASA': 202.74785220951625,\n",
       " 'PEOE_VSA1': 35.34170306982872,\n",
       " 'PEOE_VSA10': 7.04767198267719,\n",
       " 'PEOE_VSA11': 0.0,\n",
       " 'PEOE_VSA12': 11.033401435232523,\n",
       " 'PEOE_VSA13': 0.0,\n",
       " 'PEOE_VSA14': 0.0,\n",
       " 'PEOE_VSA2': 0.0,\n",
       " 'PEOE_VSA3': 4.9839785209472085,\n",
       " 'PEOE_VSA4': 4.567099647791355,\n",
       " 'PEOE_VSA5': 0.0,\n",
       " 'PEOE_VSA6': 12.13273413692322,\n",
       " 'PEOE_VSA7': 60.6636706846161,\n",
       " 'PEOE_VSA8': 56.42717609351665,\n",
       " 'PEOE_VSA9': 11.033401435232523,\n",
       " 'SMR_VSA1': 16.97413280897133,\n",
       " 'SMR_VSA10': 66.36124482705848,\n",
       " 'SMR_VSA2': 0.0,\n",
       " 'SMR_VSA3': 4.9839785209472085,\n",
       " 'SMR_VSA4': 7.04767198267719,\n",
       " 'SMR_VSA5': 0.0,\n",
       " 'SMR_VSA6': 22.93466990864874,\n",
       " 'SMR_VSA7': 84.92913895846256,\n",
       " 'SMR_VSA8': 0.0,\n",
       " 'SMR_VSA9': 0.0,\n",
       " 'SlogP_VSA1': 39.90880271762007,\n",
       " 'SlogP_VSA10': 22.74954509873425,\n",
       " 'SlogP_VSA11': 0.0,\n",
       " 'SlogP_VSA12': 0.0,\n",
       " 'SlogP_VSA2': 4.9839785209472085,\n",
       " 'SlogP_VSA3': 7.04767198267719,\n",
       " 'SlogP_VSA4': 0.0,\n",
       " 'SlogP_VSA5': 0.0,\n",
       " 'SlogP_VSA6': 84.92913895846256,\n",
       " 'SlogP_VSA7': 0.0,\n",
       " 'SlogP_VSA8': 43.611699728324226,\n",
       " 'SlogP_VSA9': 0.0,\n",
       " 'TPSA': 120.85,\n",
       " 'EState_VSA1': 0.0,\n",
       " 'EState_VSA10': 0.0,\n",
       " 'EState_VSA11': 0.0,\n",
       " 'EState_VSA2': 12.407033161179976,\n",
       " 'EState_VSA3': 0.0,\n",
       " 'EState_VSA4': 55.588796398128885,\n",
       " 'EState_VSA5': 10.772448428929591,\n",
       " 'EState_VSA6': 0.0,\n",
       " 'EState_VSA7': 79.84407680421653,\n",
       " 'EState_VSA8': 21.68381230566178,\n",
       " 'EState_VSA9': 22.93466990864874,\n",
       " 'VSA_EState1': 2.1224074074074073,\n",
       " 'VSA_EState10': 0.0,\n",
       " 'VSA_EState2': 4.539351851851851,\n",
       " 'VSA_EState3': 4.537857142857144,\n",
       " 'VSA_EState4': 30.15298122952885,\n",
       " 'VSA_EState5': 0.0,\n",
       " 'VSA_EState6': 27.61610607205845,\n",
       " 'VSA_EState7': 0.0,\n",
       " 'VSA_EState8': 0.0,\n",
       " 'VSA_EState9': 2.031296296296296,\n",
       " 'FractionCSP3': 0.037037037037037035,\n",
       " 'HeavyAtomCount': 34,\n",
       " 'NHOHCount': 8,\n",
       " 'NOCount': 6,\n",
       " 'NumAliphaticCarbocycles': 0,\n",
       " 'NumAliphaticHeterocycles': 0,\n",
       " 'NumAliphaticRings': 0,\n",
       " 'NumAromaticCarbocycles': 4,\n",
       " 'NumAromaticHeterocycles': 2,\n",
       " 'NumAromaticRings': 6,\n",
       " 'NumHAcceptors': 5,\n",
       " 'NumHDonors': 4,\n",
       " 'NumHeteroatoms': 7,\n",
       " 'NumRotatableBonds': 0,\n",
       " 'NumSaturatedCarbocycles': 0,\n",
       " 'NumSaturatedHeterocycles': 0,\n",
       " 'NumSaturatedRings': 0,\n",
       " 'RingCount': 6,\n",
       " 'MolLogP': 1.5383,\n",
       " 'MolMR': 139.52859999999995,\n",
       " 'fr_Al_COO': 0,\n",
       " 'fr_Al_OH': 0,\n",
       " 'fr_Al_OH_noTert': 0,\n",
       " 'fr_ArN': 4,\n",
       " 'fr_Ar_COO': 0,\n",
       " 'fr_Ar_N': 2,\n",
       " 'fr_Ar_NH': 0,\n",
       " 'fr_Ar_OH': 0,\n",
       " 'fr_COO': 0,\n",
       " 'fr_COO2': 0,\n",
       " 'fr_C_O': 0,\n",
       " 'fr_C_O_noCOO': 0,\n",
       " 'fr_C_S': 0,\n",
       " 'fr_HOCCN': 0,\n",
       " 'fr_Imine': 0,\n",
       " 'fr_NH0': 2,\n",
       " 'fr_NH1': 0,\n",
       " 'fr_NH2': 4,\n",
       " 'fr_N_O': 0,\n",
       " 'fr_Ndealkylation1': 0,\n",
       " 'fr_Ndealkylation2': 0,\n",
       " 'fr_Nhpyrrole': 0,\n",
       " 'fr_SH': 0,\n",
       " 'fr_aldehyde': 0,\n",
       " 'fr_alkyl_carbamate': 0,\n",
       " 'fr_alkyl_halide': 0,\n",
       " 'fr_allylic_oxid': 0,\n",
       " 'fr_amide': 0,\n",
       " 'fr_amidine': 0,\n",
       " 'fr_aniline': 4,\n",
       " 'fr_aryl_methyl': 1,\n",
       " 'fr_azide': 0,\n",
       " 'fr_azo': 0,\n",
       " 'fr_barbitur': 0,\n",
       " 'fr_benzene': 4,\n",
       " 'fr_benzodiazepine': 0,\n",
       " 'fr_bicyclic': 4,\n",
       " 'fr_diazo': 0,\n",
       " 'fr_dihydropyridine': 0,\n",
       " 'fr_epoxide': 0,\n",
       " 'fr_ester': 0,\n",
       " 'fr_ether': 0,\n",
       " 'fr_furan': 0,\n",
       " 'fr_guanido': 0,\n",
       " 'fr_halogen': 1,\n",
       " 'fr_hdrzine': 0,\n",
       " 'fr_hdrzone': 0,\n",
       " 'fr_imidazole': 0,\n",
       " 'fr_imide': 0,\n",
       " 'fr_isocyan': 0,\n",
       " 'fr_isothiocyan': 0,\n",
       " 'fr_ketone': 0,\n",
       " 'fr_ketone_Topliss': 0,\n",
       " 'fr_lactam': 0,\n",
       " 'fr_lactone': 0,\n",
       " 'fr_methoxy': 0,\n",
       " 'fr_morpholine': 0,\n",
       " 'fr_nitrile': 0,\n",
       " 'fr_nitro': 0,\n",
       " 'fr_nitro_arom': 0,\n",
       " 'fr_nitro_arom_nonortho': 0,\n",
       " 'fr_nitroso': 0,\n",
       " 'fr_oxazole': 0,\n",
       " 'fr_oxime': 0,\n",
       " 'fr_para_hydroxylation': 0,\n",
       " 'fr_phenol': 0,\n",
       " 'fr_phenol_noOrthoHbond': 0,\n",
       " 'fr_phos_acid': 0,\n",
       " 'fr_phos_ester': 0,\n",
       " 'fr_piperdine': 0,\n",
       " 'fr_piperzine': 0,\n",
       " 'fr_priamide': 0,\n",
       " 'fr_prisulfonamd': 0,\n",
       " 'fr_pyridine': 2,\n",
       " 'fr_quatN': 0,\n",
       " 'fr_sulfide': 0,\n",
       " 'fr_sulfonamd': 0,\n",
       " 'fr_sulfone': 0,\n",
       " 'fr_term_acetylene': 0,\n",
       " 'fr_tetrazole': 0,\n",
       " 'fr_thiazole': 0,\n",
       " 'fr_thiocyan': 0,\n",
       " 'fr_thiophene': 0,\n",
       " 'fr_unbrch_alkane': 0,\n",
       " 'fr_urea': 0}"
      ]
     },
     "execution_count": 31,
     "metadata": {},
     "output_type": "execute_result"
    }
   ],
   "source": [
    "smile = smiles[0]\n",
    "mol = Chem.MolFromSmiles(smile) \n",
    "moldes = pp.MolecularDescriptors(mol)\n",
    "res = moldes.compute_all(mol)\n",
    "res"
   ]
  },
  {
   "cell_type": "markdown",
   "metadata": {},
   "source": [
    "## Adding Hydrogen\n",
    "\n",
    "An aspect of the smiles are that they do not include any hydrogen atoms in their definition. Thus, we put them back in. This is a very basic call to the rdkit library which we will not include the full details of."
   ]
  },
  {
   "cell_type": "code",
   "execution_count": 33,
   "metadata": {},
   "outputs": [],
   "source": [
    "def addHs(smile):\n",
    "    m=Chem.MolFromSmiles(smile)\n",
    "    m=Chem.AddHs(m)\n",
    "    return Chem.MolToSmiles(m)"
   ]
  },
  {
   "cell_type": "code",
   "execution_count": 37,
   "metadata": {},
   "outputs": [
    {
     "name": "stdout",
     "output_type": "stream",
     "text": [
      "COc1ccc(CCN2CCC(Nc3nc4ccccc4n3Cc3ccc(F)cc3)CC2)cc1\n",
      "[H]c1c([H])c(C([H])([H])n2c(N([H])C3([H])C([H])([H])C([H])([H])N(C([H])([H])C([H])([H])c4c([H])c([H])c(OC([H])([H])[H])c([H])c4[H])C([H])([H])C3([H])[H])nc3c([H])c([H])c([H])c([H])c32)c([H])c([H])c1F\n"
     ]
    }
   ],
   "source": [
    "print(smiles[34])\n",
    "print(addHs(smiles[34]))"
   ]
  },
  {
   "cell_type": "markdown",
   "metadata": {},
   "source": [
    "We will probably want to keep the hydrogens for any DNN type solutions, but having this many H's will pollute any RNN solution we may seek."
   ]
  },
  {
   "cell_type": "markdown",
   "metadata": {},
   "source": [
    "## Conclusion\n",
    "\n",
    "In this notebook, various data engineering options have been investigated, both from a pure machine learning point of view (which follows from methods familiar to NLP), and those purely within the chemitry context. The following data engineering areas will be investigated in this project.\n",
    "\n",
    "1. Bag of words\n",
    "2. Vector/Token representation\n",
    "3. Morgan Fingerprint\n",
    "4. Murcko Scaffolds (so that BOW and vector representations can be applied)\n",
    "5. Molecular Descriptors\n",
    "6. Putting the hydrogen back\n",
    "\n",
    "The script `process.py` will generate the morgan fingerprint, murcko scaffolds, molecular descriptors and put the hydrogen atoms back, but not the BOW of tokenised words. The reason is that the chemistry transformation are smile by smile and are 'unique' data transformations whereas the NLO data transformation must first be fit on training data and transforms the unseen hold out set."
   ]
  }
 ],
 "metadata": {
  "kernelspec": {
   "display_name": "Python 3.6.9 64-bit ('ml_env': conda)",
   "language": "python",
   "name": "python36964bitmlenvconda9f54039d931e4029adcffd4ea832f0f0"
  },
  "language_info": {
   "codemirror_mode": {
    "name": "ipython",
    "version": 3
   },
   "file_extension": ".py",
   "mimetype": "text/x-python",
   "name": "python",
   "nbconvert_exporter": "python",
   "pygments_lexer": "ipython3",
   "version": "3.6.9"
  }
 },
 "nbformat": 4,
 "nbformat_minor": 2
}
